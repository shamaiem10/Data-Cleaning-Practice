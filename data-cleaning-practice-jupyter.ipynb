{
 "cells": [
  {
   "cell_type": "code",
   "execution_count": 1,
   "id": "282bad71",
   "metadata": {},
   "outputs": [],
   "source": [
    "import pandas as pd\n",
    "import numpy as np\n",
    "import matplotlib.pyplot as plt\n",
    "import seaborn as sns\n"
   ]
  },
  {
   "cell_type": "code",
   "execution_count": 7,
   "id": "993571b9",
   "metadata": {},
   "outputs": [
    {
     "data": {
      "text/html": [
       "<div>\n",
       "<style scoped>\n",
       "    .dataframe tbody tr th:only-of-type {\n",
       "        vertical-align: middle;\n",
       "    }\n",
       "\n",
       "    .dataframe tbody tr th {\n",
       "        vertical-align: top;\n",
       "    }\n",
       "\n",
       "    .dataframe thead th {\n",
       "        text-align: right;\n",
       "    }\n",
       "</style>\n",
       "<table border=\"1\" class=\"dataframe\">\n",
       "  <thead>\n",
       "    <tr style=\"text-align: right;\">\n",
       "      <th></th>\n",
       "      <th>Company Names</th>\n",
       "      <th>Cars Names</th>\n",
       "      <th>Engines</th>\n",
       "      <th>CC/Battery Capacity</th>\n",
       "      <th>HorsePower</th>\n",
       "      <th>Total Speed</th>\n",
       "      <th>Performance(0 - 100 )KM/H</th>\n",
       "      <th>Cars Prices</th>\n",
       "      <th>Fuel Types</th>\n",
       "      <th>Seats</th>\n",
       "      <th>Torque</th>\n",
       "    </tr>\n",
       "  </thead>\n",
       "  <tbody>\n",
       "    <tr>\n",
       "      <th>0</th>\n",
       "      <td>FERRARI</td>\n",
       "      <td>SF90 STRADALE</td>\n",
       "      <td>V8</td>\n",
       "      <td>3990 cc</td>\n",
       "      <td>963 hp</td>\n",
       "      <td>340 km/h</td>\n",
       "      <td>2.5 sec</td>\n",
       "      <td>$1,100,000</td>\n",
       "      <td>plug in hyrbrid</td>\n",
       "      <td>2</td>\n",
       "      <td>800 Nm</td>\n",
       "    </tr>\n",
       "    <tr>\n",
       "      <th>1</th>\n",
       "      <td>ROLLS ROYCE</td>\n",
       "      <td>PHANTOM</td>\n",
       "      <td>V12</td>\n",
       "      <td>6749 cc</td>\n",
       "      <td>563 hp</td>\n",
       "      <td>250 km/h</td>\n",
       "      <td>5.3 sec</td>\n",
       "      <td>$460,000</td>\n",
       "      <td>Petrol</td>\n",
       "      <td>5</td>\n",
       "      <td>900 Nm</td>\n",
       "    </tr>\n",
       "    <tr>\n",
       "      <th>2</th>\n",
       "      <td>Ford</td>\n",
       "      <td>KA+</td>\n",
       "      <td>1.2L Petrol</td>\n",
       "      <td>1,200 cc</td>\n",
       "      <td>70-85 hp</td>\n",
       "      <td>165 km/h</td>\n",
       "      <td>10.5 sec</td>\n",
       "      <td>$12,000-$15,000</td>\n",
       "      <td>Petrol</td>\n",
       "      <td>5</td>\n",
       "      <td>100 - 140 Nm</td>\n",
       "    </tr>\n",
       "    <tr>\n",
       "      <th>3</th>\n",
       "      <td>MERCEDES</td>\n",
       "      <td>GT 63 S</td>\n",
       "      <td>V8</td>\n",
       "      <td>3,982 cc</td>\n",
       "      <td>630 hp</td>\n",
       "      <td>250 km/h</td>\n",
       "      <td>3.2 sec</td>\n",
       "      <td>$161,000</td>\n",
       "      <td>Petrol</td>\n",
       "      <td>4</td>\n",
       "      <td>900 Nm</td>\n",
       "    </tr>\n",
       "    <tr>\n",
       "      <th>4</th>\n",
       "      <td>AUDI</td>\n",
       "      <td>AUDI R8 Gt</td>\n",
       "      <td>V10</td>\n",
       "      <td>5,204 cc</td>\n",
       "      <td>602 hp</td>\n",
       "      <td>320 km/h</td>\n",
       "      <td>3.6 sec</td>\n",
       "      <td>$253,290</td>\n",
       "      <td>Petrol</td>\n",
       "      <td>2</td>\n",
       "      <td>560 Nm</td>\n",
       "    </tr>\n",
       "  </tbody>\n",
       "</table>\n",
       "</div>"
      ],
      "text/plain": [
       "  Company Names     Cars Names      Engines CC/Battery Capacity HorsePower  \\\n",
       "0       FERRARI  SF90 STRADALE           V8             3990 cc     963 hp   \n",
       "1   ROLLS ROYCE        PHANTOM          V12             6749 cc     563 hp   \n",
       "2          Ford            KA+  1.2L Petrol            1,200 cc   70-85 hp   \n",
       "3      MERCEDES        GT 63 S           V8            3,982 cc     630 hp   \n",
       "4          AUDI     AUDI R8 Gt          V10            5,204 cc     602 hp   \n",
       "\n",
       "  Total Speed Performance(0 - 100 )KM/H      Cars Prices       Fuel Types  \\\n",
       "0    340 km/h                   2.5 sec      $1,100,000   plug in hyrbrid   \n",
       "1    250 km/h                   5.3 sec        $460,000            Petrol   \n",
       "2    165 km/h                  10.5 sec  $12,000-$15,000           Petrol   \n",
       "3    250 km/h                   3.2 sec        $161,000            Petrol   \n",
       "4    320 km/h                   3.6 sec        $253,290            Petrol   \n",
       "\n",
       "  Seats        Torque  \n",
       "0     2        800 Nm  \n",
       "1     5        900 Nm  \n",
       "2     5  100 - 140 Nm  \n",
       "3     4        900 Nm  \n",
       "4     2        560 Nm  "
      ]
     },
     "execution_count": 7,
     "metadata": {},
     "output_type": "execute_result"
    }
   ],
   "source": [
    "df = pd.read_csv(\"Cars Datasets 2025.csv\", encoding=\"latin1\")\n",
    "df.head()"
   ]
  },
  {
   "cell_type": "code",
   "execution_count": 17,
   "id": "5b5115e3",
   "metadata": {},
   "outputs": [
    {
     "name": "stdout",
     "output_type": "stream",
     "text": [
      "<class 'pandas.core.frame.DataFrame'>\n",
      "Index: 1210 entries, 0 to 1217\n",
      "Data columns (total 11 columns):\n",
      " #   Column                     Non-Null Count  Dtype \n",
      "---  ------                     --------------  ----- \n",
      " 0   Company Names              1210 non-null   object\n",
      " 1   Cars Names                 1210 non-null   object\n",
      " 2   Engines                    1210 non-null   object\n",
      " 3   CC/Battery Capacity        1210 non-null   object\n",
      " 4   HorsePower                 1210 non-null   object\n",
      " 5   Total Speed                1210 non-null   object\n",
      " 6   Performance(0 - 100 )KM/H  1210 non-null   object\n",
      " 7   Cars Prices                1210 non-null   object\n",
      " 8   Fuel Types                 1210 non-null   object\n",
      " 9   Seats                      1210 non-null   object\n",
      " 10  Torque                     1210 non-null   object\n",
      "dtypes: object(11)\n",
      "memory usage: 113.4+ KB\n"
     ]
    }
   ],
   "source": [
    "df.info()"
   ]
  },
  {
   "cell_type": "markdown",
   "id": "1dbc9ca8",
   "metadata": {},
   "source": [
    "MISSING VALUE TREATMENT"
   ]
  },
  {
   "cell_type": "code",
   "execution_count": 9,
   "id": "c22daef4",
   "metadata": {},
   "outputs": [
    {
     "data": {
      "text/html": [
       "<div>\n",
       "<style scoped>\n",
       "    .dataframe tbody tr th:only-of-type {\n",
       "        vertical-align: middle;\n",
       "    }\n",
       "\n",
       "    .dataframe tbody tr th {\n",
       "        vertical-align: top;\n",
       "    }\n",
       "\n",
       "    .dataframe thead th {\n",
       "        text-align: right;\n",
       "    }\n",
       "</style>\n",
       "<table border=\"1\" class=\"dataframe\">\n",
       "  <thead>\n",
       "    <tr style=\"text-align: right;\">\n",
       "      <th></th>\n",
       "      <th>Company Names</th>\n",
       "      <th>Cars Names</th>\n",
       "      <th>Engines</th>\n",
       "      <th>CC/Battery Capacity</th>\n",
       "      <th>HorsePower</th>\n",
       "      <th>Total Speed</th>\n",
       "      <th>Performance(0 - 100 )KM/H</th>\n",
       "      <th>Cars Prices</th>\n",
       "      <th>Fuel Types</th>\n",
       "      <th>Seats</th>\n",
       "      <th>Torque</th>\n",
       "    </tr>\n",
       "  </thead>\n",
       "  <tbody>\n",
       "    <tr>\n",
       "      <th>0</th>\n",
       "      <td>False</td>\n",
       "      <td>False</td>\n",
       "      <td>False</td>\n",
       "      <td>False</td>\n",
       "      <td>False</td>\n",
       "      <td>False</td>\n",
       "      <td>False</td>\n",
       "      <td>False</td>\n",
       "      <td>False</td>\n",
       "      <td>False</td>\n",
       "      <td>False</td>\n",
       "    </tr>\n",
       "    <tr>\n",
       "      <th>1</th>\n",
       "      <td>False</td>\n",
       "      <td>False</td>\n",
       "      <td>False</td>\n",
       "      <td>False</td>\n",
       "      <td>False</td>\n",
       "      <td>False</td>\n",
       "      <td>False</td>\n",
       "      <td>False</td>\n",
       "      <td>False</td>\n",
       "      <td>False</td>\n",
       "      <td>False</td>\n",
       "    </tr>\n",
       "    <tr>\n",
       "      <th>2</th>\n",
       "      <td>False</td>\n",
       "      <td>False</td>\n",
       "      <td>False</td>\n",
       "      <td>False</td>\n",
       "      <td>False</td>\n",
       "      <td>False</td>\n",
       "      <td>False</td>\n",
       "      <td>False</td>\n",
       "      <td>False</td>\n",
       "      <td>False</td>\n",
       "      <td>False</td>\n",
       "    </tr>\n",
       "    <tr>\n",
       "      <th>3</th>\n",
       "      <td>False</td>\n",
       "      <td>False</td>\n",
       "      <td>False</td>\n",
       "      <td>False</td>\n",
       "      <td>False</td>\n",
       "      <td>False</td>\n",
       "      <td>False</td>\n",
       "      <td>False</td>\n",
       "      <td>False</td>\n",
       "      <td>False</td>\n",
       "      <td>False</td>\n",
       "    </tr>\n",
       "    <tr>\n",
       "      <th>4</th>\n",
       "      <td>False</td>\n",
       "      <td>False</td>\n",
       "      <td>False</td>\n",
       "      <td>False</td>\n",
       "      <td>False</td>\n",
       "      <td>False</td>\n",
       "      <td>False</td>\n",
       "      <td>False</td>\n",
       "      <td>False</td>\n",
       "      <td>False</td>\n",
       "      <td>False</td>\n",
       "    </tr>\n",
       "    <tr>\n",
       "      <th>...</th>\n",
       "      <td>...</td>\n",
       "      <td>...</td>\n",
       "      <td>...</td>\n",
       "      <td>...</td>\n",
       "      <td>...</td>\n",
       "      <td>...</td>\n",
       "      <td>...</td>\n",
       "      <td>...</td>\n",
       "      <td>...</td>\n",
       "      <td>...</td>\n",
       "      <td>...</td>\n",
       "    </tr>\n",
       "    <tr>\n",
       "      <th>1213</th>\n",
       "      <td>False</td>\n",
       "      <td>False</td>\n",
       "      <td>False</td>\n",
       "      <td>False</td>\n",
       "      <td>False</td>\n",
       "      <td>False</td>\n",
       "      <td>False</td>\n",
       "      <td>False</td>\n",
       "      <td>False</td>\n",
       "      <td>False</td>\n",
       "      <td>False</td>\n",
       "    </tr>\n",
       "    <tr>\n",
       "      <th>1214</th>\n",
       "      <td>False</td>\n",
       "      <td>False</td>\n",
       "      <td>False</td>\n",
       "      <td>False</td>\n",
       "      <td>False</td>\n",
       "      <td>False</td>\n",
       "      <td>False</td>\n",
       "      <td>False</td>\n",
       "      <td>False</td>\n",
       "      <td>False</td>\n",
       "      <td>False</td>\n",
       "    </tr>\n",
       "    <tr>\n",
       "      <th>1215</th>\n",
       "      <td>False</td>\n",
       "      <td>False</td>\n",
       "      <td>False</td>\n",
       "      <td>False</td>\n",
       "      <td>False</td>\n",
       "      <td>False</td>\n",
       "      <td>False</td>\n",
       "      <td>False</td>\n",
       "      <td>False</td>\n",
       "      <td>False</td>\n",
       "      <td>False</td>\n",
       "    </tr>\n",
       "    <tr>\n",
       "      <th>1216</th>\n",
       "      <td>False</td>\n",
       "      <td>False</td>\n",
       "      <td>False</td>\n",
       "      <td>False</td>\n",
       "      <td>False</td>\n",
       "      <td>False</td>\n",
       "      <td>False</td>\n",
       "      <td>False</td>\n",
       "      <td>False</td>\n",
       "      <td>False</td>\n",
       "      <td>False</td>\n",
       "    </tr>\n",
       "    <tr>\n",
       "      <th>1217</th>\n",
       "      <td>False</td>\n",
       "      <td>False</td>\n",
       "      <td>False</td>\n",
       "      <td>False</td>\n",
       "      <td>False</td>\n",
       "      <td>False</td>\n",
       "      <td>False</td>\n",
       "      <td>False</td>\n",
       "      <td>False</td>\n",
       "      <td>False</td>\n",
       "      <td>False</td>\n",
       "    </tr>\n",
       "  </tbody>\n",
       "</table>\n",
       "<p>1218 rows × 11 columns</p>\n",
       "</div>"
      ],
      "text/plain": [
       "      Company Names  Cars Names  Engines  CC/Battery Capacity  HorsePower  \\\n",
       "0             False       False    False                False       False   \n",
       "1             False       False    False                False       False   \n",
       "2             False       False    False                False       False   \n",
       "3             False       False    False                False       False   \n",
       "4             False       False    False                False       False   \n",
       "...             ...         ...      ...                  ...         ...   \n",
       "1213          False       False    False                False       False   \n",
       "1214          False       False    False                False       False   \n",
       "1215          False       False    False                False       False   \n",
       "1216          False       False    False                False       False   \n",
       "1217          False       False    False                False       False   \n",
       "\n",
       "      Total Speed  Performance(0 - 100 )KM/H  Cars Prices  Fuel Types  Seats  \\\n",
       "0           False                      False        False       False  False   \n",
       "1           False                      False        False       False  False   \n",
       "2           False                      False        False       False  False   \n",
       "3           False                      False        False       False  False   \n",
       "4           False                      False        False       False  False   \n",
       "...           ...                        ...          ...         ...    ...   \n",
       "1213        False                      False        False       False  False   \n",
       "1214        False                      False        False       False  False   \n",
       "1215        False                      False        False       False  False   \n",
       "1216        False                      False        False       False  False   \n",
       "1217        False                      False        False       False  False   \n",
       "\n",
       "      Torque  \n",
       "0      False  \n",
       "1      False  \n",
       "2      False  \n",
       "3      False  \n",
       "4      False  \n",
       "...      ...  \n",
       "1213   False  \n",
       "1214   False  \n",
       "1215   False  \n",
       "1216   False  \n",
       "1217   False  \n",
       "\n",
       "[1218 rows x 11 columns]"
      ]
     },
     "execution_count": 9,
     "metadata": {},
     "output_type": "execute_result"
    }
   ],
   "source": [
    "df.isnull()"
   ]
  },
  {
   "cell_type": "code",
   "execution_count": 10,
   "id": "ff06179f",
   "metadata": {},
   "outputs": [
    {
     "data": {
      "text/plain": [
       "Company Names                0\n",
       "Cars Names                   0\n",
       "Engines                      0\n",
       "CC/Battery Capacity          3\n",
       "HorsePower                   0\n",
       "Total Speed                  0\n",
       "Performance(0 - 100 )KM/H    6\n",
       "Cars Prices                  0\n",
       "Fuel Types                   0\n",
       "Seats                        0\n",
       "Torque                       1\n",
       "dtype: int64"
      ]
     },
     "execution_count": 10,
     "metadata": {},
     "output_type": "execute_result"
    }
   ],
   "source": [
    "df.isnull().sum()"
   ]
  },
  {
   "cell_type": "code",
   "execution_count": 11,
   "id": "17d52132",
   "metadata": {},
   "outputs": [
    {
     "data": {
      "text/plain": [
       "(1218, 11)"
      ]
     },
     "execution_count": 11,
     "metadata": {},
     "output_type": "execute_result"
    }
   ],
   "source": [
    "df.shape"
   ]
  },
  {
   "cell_type": "code",
   "execution_count": 16,
   "id": "e21dedcb",
   "metadata": {},
   "outputs": [
    {
     "data": {
      "text/plain": [
       "Company Names                0.0\n",
       "Cars Names                   0.0\n",
       "Engines                      0.0\n",
       "CC/Battery Capacity          0.0\n",
       "HorsePower                   0.0\n",
       "Total Speed                  0.0\n",
       "Performance(0 - 100 )KM/H    0.0\n",
       "Cars Prices                  0.0\n",
       "Fuel Types                   0.0\n",
       "Seats                        0.0\n",
       "Torque                       0.0\n",
       "dtype: float64"
      ]
     },
     "execution_count": 16,
     "metadata": {},
     "output_type": "execute_result"
    }
   ],
   "source": [
    "df.isnull().sum()/df.shape[0]*100"
   ]
  },
  {
   "cell_type": "code",
   "execution_count": 15,
   "id": "e9d5ad37",
   "metadata": {},
   "outputs": [],
   "source": [
    "df.dropna(inplace=True)"
   ]
  },
  {
   "cell_type": "markdown",
   "id": "d4332b39",
   "metadata": {},
   "source": [
    "If we dont want to drop the missing values we can use df.fillna(...use mean/median for cont num and mode for categorical and discrete num)"
   ]
  },
  {
   "cell_type": "code",
   "execution_count": 19,
   "id": "63bf0f36",
   "metadata": {},
   "outputs": [
    {
     "data": {
      "text/plain": [
       "'FERRARI'"
      ]
     },
     "execution_count": 19,
     "metadata": {},
     "output_type": "execute_result"
    }
   ],
   "source": [
    "df['Company Names'][0]"
   ]
  },
  {
   "cell_type": "markdown",
   "id": "0ce106ad",
   "metadata": {},
   "source": [
    "we can make new columns by doing df['new column name']=whatever value you want to assign"
   ]
  },
  {
   "cell_type": "markdown",
   "id": "405d69c4",
   "metadata": {},
   "source": [
    "STANDARDIZED FORMATTING"
   ]
  },
  {
   "cell_type": "code",
   "execution_count": 20,
   "id": "84e23784",
   "metadata": {},
   "outputs": [
    {
     "data": {
      "text/plain": [
       "0             $1,100,000 \n",
       "1               $460,000 \n",
       "2         $12,000-$15,000\n",
       "3               $161,000 \n",
       "4               $253,290 \n",
       "              ...        \n",
       "1213    $43,590  $48,000\n",
       "1214             $50,000 \n",
       "1215    $25,210  $29,135\n",
       "1216              33,000\n",
       "1217    $29,000  $43,000\n",
       "Name: Cars Prices, Length: 1210, dtype: object"
      ]
     },
     "execution_count": 20,
     "metadata": {},
     "output_type": "execute_result"
    }
   ],
   "source": [
    "df['Cars Prices']"
   ]
  },
  {
   "cell_type": "markdown",
   "id": "8e18d7ea",
   "metadata": {},
   "source": [
    "we need to remove (\",\" , \"currency names\")"
   ]
  },
  {
   "cell_type": "code",
   "execution_count": 21,
   "id": "2eab7ed5",
   "metadata": {},
   "outputs": [
    {
     "data": {
      "text/plain": [
       "0             $1100000 \n",
       "1              $460000 \n",
       "2         $12000-$15000\n",
       "3              $161000 \n",
       "4              $253290 \n",
       "             ...       \n",
       "1213    $43590  $48000\n",
       "1214            $50000 \n",
       "1215    $25210  $29135\n",
       "1216             33000\n",
       "1217    $29000  $43000\n",
       "Name: Cars Prices, Length: 1210, dtype: object"
      ]
     },
     "execution_count": 21,
     "metadata": {},
     "output_type": "execute_result"
    }
   ],
   "source": [
    "df['Cars Prices'].str.replace(',',\"\")"
   ]
  },
  {
   "cell_type": "code",
   "execution_count": 22,
   "id": "53598d8b",
   "metadata": {},
   "outputs": [
    {
     "data": {
      "text/html": [
       "<div>\n",
       "<style scoped>\n",
       "    .dataframe tbody tr th:only-of-type {\n",
       "        vertical-align: middle;\n",
       "    }\n",
       "\n",
       "    .dataframe tbody tr th {\n",
       "        vertical-align: top;\n",
       "    }\n",
       "\n",
       "    .dataframe thead th {\n",
       "        text-align: right;\n",
       "    }\n",
       "</style>\n",
       "<table border=\"1\" class=\"dataframe\">\n",
       "  <thead>\n",
       "    <tr style=\"text-align: right;\">\n",
       "      <th></th>\n",
       "      <th>Company Names</th>\n",
       "      <th>Cars Names</th>\n",
       "      <th>Engines</th>\n",
       "      <th>CC/Battery Capacity</th>\n",
       "      <th>HorsePower</th>\n",
       "      <th>Total Speed</th>\n",
       "      <th>Performance(0 - 100 )KM/H</th>\n",
       "      <th>Cars Prices</th>\n",
       "      <th>Fuel Types</th>\n",
       "      <th>Seats</th>\n",
       "      <th>Torque</th>\n",
       "    </tr>\n",
       "  </thead>\n",
       "  <tbody>\n",
       "    <tr>\n",
       "      <th>1213</th>\n",
       "      <td>Toyota</td>\n",
       "      <td>Crown Signia</td>\n",
       "      <td>2.5L Hybrid I4</td>\n",
       "      <td>2487 cc</td>\n",
       "      <td>240 hp</td>\n",
       "      <td>180 km/h</td>\n",
       "      <td>7.6 sec</td>\n",
       "      <td>$43,590  $48,000</td>\n",
       "      <td>Hybrid (Gas + Electric)</td>\n",
       "      <td>5</td>\n",
       "      <td>239 Nm</td>\n",
       "    </tr>\n",
       "    <tr>\n",
       "      <th>1214</th>\n",
       "      <td>Toyota</td>\n",
       "      <td>4Runner (6th Gen)</td>\n",
       "      <td>2.4L Turbo I4 (i-FORCE MAX Hybrid)</td>\n",
       "      <td>2393 cc + Battery</td>\n",
       "      <td>326 hp</td>\n",
       "      <td>180 km/h</td>\n",
       "      <td>6.8 sec</td>\n",
       "      <td>$50,000</td>\n",
       "      <td>Hybrid</td>\n",
       "      <td>7</td>\n",
       "      <td>630 Nm</td>\n",
       "    </tr>\n",
       "    <tr>\n",
       "      <th>1215</th>\n",
       "      <td>Toyota</td>\n",
       "      <td>Corolla Cross</td>\n",
       "      <td>2.0L Gas / 2.0L Hybrid</td>\n",
       "      <td>1987 cc / Hybrid batt</td>\n",
       "      <td>169  196 hp</td>\n",
       "      <td>190 km/h</td>\n",
       "      <td>8.0  9.2 sec</td>\n",
       "      <td>$25,210  $29,135</td>\n",
       "      <td>Gas / Hybrid</td>\n",
       "      <td>5</td>\n",
       "      <td>190  210 Nm</td>\n",
       "    </tr>\n",
       "    <tr>\n",
       "      <th>1216</th>\n",
       "      <td>Toyota</td>\n",
       "      <td>C-HR+</td>\n",
       "      <td>1.8L / 2.0L Hybrid</td>\n",
       "      <td>1798 / 1987 cc + batt</td>\n",
       "      <td>140  198 hp</td>\n",
       "      <td>180 km/h</td>\n",
       "      <td>7.9  10.5 sec</td>\n",
       "      <td> 33,000</td>\n",
       "      <td>Hybrid</td>\n",
       "      <td>5</td>\n",
       "      <td>190  205 Nm</td>\n",
       "    </tr>\n",
       "    <tr>\n",
       "      <th>1217</th>\n",
       "      <td>Toyota</td>\n",
       "      <td>RAV4 (6th Gen)</td>\n",
       "      <td>2.5L Hybrid / Plug-in Hybrid</td>\n",
       "      <td>2487 cc + batt</td>\n",
       "      <td>219  302 hp</td>\n",
       "      <td>200 km/h</td>\n",
       "      <td>6.0  8.1 sec</td>\n",
       "      <td>$29,000  $43,000</td>\n",
       "      <td>Hybrid / Plug-in</td>\n",
       "      <td>5</td>\n",
       "      <td>221  400 Nm</td>\n",
       "    </tr>\n",
       "  </tbody>\n",
       "</table>\n",
       "</div>"
      ],
      "text/plain": [
       "     Company Names         Cars Names                             Engines  \\\n",
       "1213        Toyota       Crown Signia                      2.5L Hybrid I4   \n",
       "1214        Toyota  4Runner (6th Gen)  2.4L Turbo I4 (i-FORCE MAX Hybrid)   \n",
       "1215        Toyota      Corolla Cross              2.0L Gas / 2.0L Hybrid   \n",
       "1216        Toyota             C-HR+                   1.8L / 2.0L Hybrid   \n",
       "1217        Toyota     RAV4 (6th Gen)        2.5L Hybrid / Plug-in Hybrid   \n",
       "\n",
       "        CC/Battery Capacity    HorsePower Total Speed  \\\n",
       "1213                2487 cc        240 hp    180 km/h   \n",
       "1214      2393 cc + Battery        326 hp    180 km/h   \n",
       "1215  1987 cc / Hybrid batt  169  196 hp    190 km/h   \n",
       "1216  1798 / 1987 cc + batt  140  198 hp    180 km/h   \n",
       "1217         2487 cc + batt  219  302 hp    200 km/h   \n",
       "\n",
       "     Performance(0 - 100 )KM/H        Cars Prices               Fuel Types  \\\n",
       "1213                   7.6 sec  $43,590  $48,000  Hybrid (Gas + Electric)   \n",
       "1214                   6.8 sec           $50,000                    Hybrid   \n",
       "1215             8.0  9.2 sec  $25,210  $29,135             Gas / Hybrid   \n",
       "1216            7.9  10.5 sec            33,000                   Hybrid   \n",
       "1217             6.0  8.1 sec  $29,000  $43,000         Hybrid / Plug-in   \n",
       "\n",
       "     Seats        Torque  \n",
       "1213     5        239 Nm  \n",
       "1214     7        630 Nm  \n",
       "1215     5  190  210 Nm  \n",
       "1216     5  190  205 Nm  \n",
       "1217     5  221  400 Nm  "
      ]
     },
     "execution_count": 22,
     "metadata": {},
     "output_type": "execute_result"
    }
   ],
   "source": [
    "df.tail()"
   ]
  },
  {
   "cell_type": "markdown",
   "id": "8e6d8428",
   "metadata": {},
   "source": [
    "Lets remove currency and commas"
   ]
  },
  {
   "cell_type": "code",
   "execution_count": 24,
   "id": "398bfddc",
   "metadata": {},
   "outputs": [],
   "source": [
    "df['Cars Prices']=df['Cars Prices'].str.replace('$',\"\").str.replace(\",\",\"\")"
   ]
  },
  {
   "cell_type": "markdown",
   "id": "e58df883",
   "metadata": {},
   "source": [
    "lets normalize these too many range symbols to a single \"-\""
   ]
  },
  {
   "cell_type": "code",
   "execution_count": 25,
   "id": "8996df5e",
   "metadata": {},
   "outputs": [
    {
     "data": {
      "text/plain": [
       "0            1100000 \n",
       "1             460000 \n",
       "2         12000-15000\n",
       "3             161000 \n",
       "4             253290 \n",
       "            ...      \n",
       "1213    43590  48000\n",
       "1214           50000 \n",
       "1215    25210  29135\n",
       "1216           33000\n",
       "1217    29000  43000\n",
       "Name: Cars Prices, Length: 1210, dtype: object"
      ]
     },
     "execution_count": 25,
     "metadata": {},
     "output_type": "execute_result"
    }
   ],
   "source": [
    "df['Cars Prices']"
   ]
  },
  {
   "cell_type": "code",
   "execution_count": 26,
   "id": "84ec8924",
   "metadata": {},
   "outputs": [],
   "source": [
    "df['Cars Prices']=df['Cars Prices'].str.replace(\"–\",\"-\")\n",
    "df['Cars Prices']=df['Cars Prices'].str.replace(\"—\", \"-\") \n",
    "df['Cars Prices']=df['Cars Prices'].str.replace(\"\", \"-\")"
   ]
  },
  {
   "cell_type": "code",
   "execution_count": 28,
   "id": "e609e7b3",
   "metadata": {},
   "outputs": [
    {
     "data": {
      "text/plain": [
       "0       1100000 \n",
       "1        460000 \n",
       "2    12000-15000\n",
       "3        161000 \n",
       "4        253290 \n",
       "Name: Cars Prices, dtype: object"
      ]
     },
     "execution_count": 28,
     "metadata": {},
     "output_type": "execute_result"
    }
   ],
   "source": [
    "df['Cars Prices'].head()"
   ]
  },
  {
   "cell_type": "code",
   "execution_count": 29,
   "id": "ba61fbed",
   "metadata": {},
   "outputs": [
    {
     "data": {
      "text/plain": [
       "1213    43590 - 48000\n",
       "1214           50000 \n",
       "1215    25210 - 29135\n",
       "1216           33000\n",
       "1217    29000 - 43000\n",
       "Name: Cars Prices, dtype: object"
      ]
     },
     "execution_count": 29,
     "metadata": {},
     "output_type": "execute_result"
    }
   ],
   "source": [
    "df['Cars Prices'].tail()"
   ]
  },
  {
   "cell_type": "code",
   "execution_count": 30,
   "id": "472e4733",
   "metadata": {},
   "outputs": [],
   "source": [
    "import re"
   ]
  },
  {
   "cell_type": "code",
   "execution_count": 31,
   "id": "338582b9",
   "metadata": {},
   "outputs": [],
   "source": [
    "df[\"Cars Prices\"] = df[\"Cars Prices\"].apply(lambda x: re.sub(r\"[^0-9\\- ]\", \"\", x))\n"
   ]
  },
  {
   "cell_type": "code",
   "execution_count": 32,
   "id": "41a15401",
   "metadata": {},
   "outputs": [
    {
     "data": {
      "text/plain": [
       "1213    43590 - 48000\n",
       "1214           50000 \n",
       "1215    25210 - 29135\n",
       "1216            33000\n",
       "1217    29000 - 43000\n",
       "Name: Cars Prices, dtype: object"
      ]
     },
     "execution_count": 32,
     "metadata": {},
     "output_type": "execute_result"
    }
   ],
   "source": [
    "df['Cars Prices'].tail()"
   ]
  },
  {
   "cell_type": "code",
   "execution_count": 34,
   "id": "fc8020a1",
   "metadata": {},
   "outputs": [],
   "source": [
    "df[\"Cars Prices\"] = df[\"Cars Prices\"].str.replace(r\"\\s+\", \"-\", regex=True)\n"
   ]
  },
  {
   "cell_type": "markdown",
   "id": "84824c19",
   "metadata": {},
   "source": [
    "Writing a function to find midpoint for price ranges"
   ]
  },
  {
   "cell_type": "code",
   "execution_count": 36,
   "id": "02e2113c",
   "metadata": {},
   "outputs": [],
   "source": [
    "import re\n",
    "\n",
    "# Step 1: Clean the column\n",
    "df[\"Cars Prices\"] = df[\"Cars Prices\"].apply(lambda x: re.sub(r\"[^0-9\\- ]\", \"\", str(x)))\n",
    "df[\"Cars Prices\"] = df[\"Cars Prices\"].str.replace(r\"\\s+\", \"-\", regex=True)\n",
    "\n",
    "# Step 2: Safe function\n",
    "def process_price(value):\n",
    "    value = value.strip(\"-\").strip()   # remove stray dashes\n",
    "    if \"-\" in value:\n",
    "        parts = [p for p in value.split(\"-\") if p.strip()]  # remove empty pieces\n",
    "        if len(parts) == 2:  # exactly two numbers\n",
    "            low, high = parts\n",
    "            return (int(low) + int(high)) / 2\n",
    "        elif len(parts) == 1:  # only one number left\n",
    "            return int(parts[0])\n",
    "        else:\n",
    "            return None  # something weird, skip or handle separately\n",
    "    elif value.isdigit():\n",
    "        return int(value)\n",
    "    else:\n",
    "        return None  # if it's empty or not a number\n",
    "\n",
    "# Step 3: Apply\n",
    "df[\"Cars Prices\"] = df[\"Cars Prices\"].apply(process_price)\n"
   ]
  },
  {
   "cell_type": "code",
   "execution_count": 38,
   "id": "c9a299ed",
   "metadata": {},
   "outputs": [
    {
     "data": {
      "text/plain": [
       "0       1100000.0\n",
       "1        460000.0\n",
       "2         13500.0\n",
       "3        161000.0\n",
       "4        253290.0\n",
       "          ...    \n",
       "1213      45795.0\n",
       "1214      50000.0\n",
       "1215      27172.5\n",
       "1216      33000.0\n",
       "1217      36000.0\n",
       "Name: Cars Prices, Length: 1210, dtype: float64"
      ]
     },
     "execution_count": 38,
     "metadata": {},
     "output_type": "execute_result"
    }
   ],
   "source": [
    "df['Cars Prices']"
   ]
  },
  {
   "cell_type": "code",
   "execution_count": 39,
   "id": "7423e1e7",
   "metadata": {},
   "outputs": [
    {
     "name": "stdout",
     "output_type": "stream",
     "text": [
      "<class 'pandas.core.frame.DataFrame'>\n",
      "Index: 1210 entries, 0 to 1217\n",
      "Data columns (total 11 columns):\n",
      " #   Column                     Non-Null Count  Dtype  \n",
      "---  ------                     --------------  -----  \n",
      " 0   Company Names              1210 non-null   object \n",
      " 1   Cars Names                 1210 non-null   object \n",
      " 2   Engines                    1210 non-null   object \n",
      " 3   CC/Battery Capacity        1210 non-null   object \n",
      " 4   HorsePower                 1210 non-null   object \n",
      " 5   Total Speed                1210 non-null   object \n",
      " 6   Performance(0 - 100 )KM/H  1210 non-null   object \n",
      " 7   Cars Prices                1210 non-null   float64\n",
      " 8   Fuel Types                 1210 non-null   object \n",
      " 9   Seats                      1210 non-null   object \n",
      " 10  Torque                     1210 non-null   object \n",
      "dtypes: float64(1), object(10)\n",
      "memory usage: 145.7+ KB\n"
     ]
    }
   ],
   "source": [
    "df.info()"
   ]
  },
  {
   "cell_type": "code",
   "execution_count": 40,
   "id": "e8180a83",
   "metadata": {},
   "outputs": [
    {
     "data": {
      "text/plain": [
       "Index(['Company Names', 'Cars Names', 'Engines', 'CC/Battery Capacity',\n",
       "       'HorsePower', 'Total Speed', 'Performance(0 - 100 )KM/H', 'Cars Prices',\n",
       "       'Fuel Types', 'Seats', 'Torque'],\n",
       "      dtype='object')"
      ]
     },
     "execution_count": 40,
     "metadata": {},
     "output_type": "execute_result"
    }
   ],
   "source": [
    "df.columns"
   ]
  },
  {
   "cell_type": "code",
   "execution_count": 49,
   "id": "6481c4c1",
   "metadata": {},
   "outputs": [
    {
     "data": {
      "text/html": [
       "<div>\n",
       "<style scoped>\n",
       "    .dataframe tbody tr th:only-of-type {\n",
       "        vertical-align: middle;\n",
       "    }\n",
       "\n",
       "    .dataframe tbody tr th {\n",
       "        vertical-align: top;\n",
       "    }\n",
       "\n",
       "    .dataframe thead th {\n",
       "        text-align: right;\n",
       "    }\n",
       "</style>\n",
       "<table border=\"1\" class=\"dataframe\">\n",
       "  <thead>\n",
       "    <tr style=\"text-align: right;\">\n",
       "      <th></th>\n",
       "      <th>Company Names</th>\n",
       "      <th>Cars Names</th>\n",
       "      <th>Engines</th>\n",
       "      <th>CC/Battery Capacity</th>\n",
       "      <th>HorsePower</th>\n",
       "      <th>Total Speed</th>\n",
       "      <th>Performance(0 - 100 )KM/H</th>\n",
       "      <th>Cars Prices</th>\n",
       "      <th>Fuel Types</th>\n",
       "      <th>Seats</th>\n",
       "      <th>Torque</th>\n",
       "    </tr>\n",
       "  </thead>\n",
       "  <tbody>\n",
       "    <tr>\n",
       "      <th>0</th>\n",
       "      <td>FERRARI</td>\n",
       "      <td>SF90 STRADALE</td>\n",
       "      <td>V8</td>\n",
       "      <td>3990 cc</td>\n",
       "      <td>963 hp</td>\n",
       "      <td>340 km/h</td>\n",
       "      <td>2.5 sec</td>\n",
       "      <td>1100000.0</td>\n",
       "      <td>plug in hyrbrid</td>\n",
       "      <td>2</td>\n",
       "      <td>800 Nm</td>\n",
       "    </tr>\n",
       "    <tr>\n",
       "      <th>1</th>\n",
       "      <td>ROLLS ROYCE</td>\n",
       "      <td>PHANTOM</td>\n",
       "      <td>V12</td>\n",
       "      <td>6749 cc</td>\n",
       "      <td>563 hp</td>\n",
       "      <td>250 km/h</td>\n",
       "      <td>5.3 sec</td>\n",
       "      <td>460000.0</td>\n",
       "      <td>Petrol</td>\n",
       "      <td>5</td>\n",
       "      <td>900 Nm</td>\n",
       "    </tr>\n",
       "    <tr>\n",
       "      <th>2</th>\n",
       "      <td>Ford</td>\n",
       "      <td>KA+</td>\n",
       "      <td>1.2L Petrol</td>\n",
       "      <td>1200 cc</td>\n",
       "      <td>70-85 hp</td>\n",
       "      <td>165 km/h</td>\n",
       "      <td>10.5 sec</td>\n",
       "      <td>13500.0</td>\n",
       "      <td>Petrol</td>\n",
       "      <td>5</td>\n",
       "      <td>100 - 140 Nm</td>\n",
       "    </tr>\n",
       "    <tr>\n",
       "      <th>3</th>\n",
       "      <td>MERCEDES</td>\n",
       "      <td>GT 63 S</td>\n",
       "      <td>V8</td>\n",
       "      <td>3982 cc</td>\n",
       "      <td>630 hp</td>\n",
       "      <td>250 km/h</td>\n",
       "      <td>3.2 sec</td>\n",
       "      <td>161000.0</td>\n",
       "      <td>Petrol</td>\n",
       "      <td>4</td>\n",
       "      <td>900 Nm</td>\n",
       "    </tr>\n",
       "    <tr>\n",
       "      <th>4</th>\n",
       "      <td>AUDI</td>\n",
       "      <td>AUDI R8 Gt</td>\n",
       "      <td>V10</td>\n",
       "      <td>5204 cc</td>\n",
       "      <td>602 hp</td>\n",
       "      <td>320 km/h</td>\n",
       "      <td>3.6 sec</td>\n",
       "      <td>253290.0</td>\n",
       "      <td>Petrol</td>\n",
       "      <td>2</td>\n",
       "      <td>560 Nm</td>\n",
       "    </tr>\n",
       "  </tbody>\n",
       "</table>\n",
       "</div>"
      ],
      "text/plain": [
       "  Company Names     Cars Names      Engines CC/Battery Capacity HorsePower  \\\n",
       "0       FERRARI  SF90 STRADALE           V8             3990 cc     963 hp   \n",
       "1   ROLLS ROYCE        PHANTOM          V12             6749 cc     563 hp   \n",
       "2          Ford            KA+  1.2L Petrol             1200 cc   70-85 hp   \n",
       "3      MERCEDES        GT 63 S           V8             3982 cc     630 hp   \n",
       "4          AUDI     AUDI R8 Gt          V10             5204 cc     602 hp   \n",
       "\n",
       "  Total Speed Performance(0 - 100 )KM/H  Cars Prices       Fuel Types Seats  \\\n",
       "0    340 km/h                   2.5 sec    1100000.0  plug in hyrbrid     2   \n",
       "1    250 km/h                   5.3 sec     460000.0           Petrol     5   \n",
       "2    165 km/h                  10.5 sec      13500.0           Petrol     5   \n",
       "3    250 km/h                   3.2 sec     161000.0           Petrol     4   \n",
       "4    320 km/h                   3.6 sec     253290.0           Petrol     2   \n",
       "\n",
       "         Torque  \n",
       "0        800 Nm  \n",
       "1        900 Nm  \n",
       "2  100 - 140 Nm  \n",
       "3        900 Nm  \n",
       "4        560 Nm  "
      ]
     },
     "execution_count": 49,
     "metadata": {},
     "output_type": "execute_result"
    }
   ],
   "source": [
    "df.head()"
   ]
  },
  {
   "cell_type": "code",
   "execution_count": 47,
   "id": "85a332d7",
   "metadata": {},
   "outputs": [],
   "source": [
    "df['CC/Battery Capacity']=df['CC/Battery Capacity'].str.replace(',',\"\")"
   ]
  },
  {
   "cell_type": "code",
   "execution_count": 48,
   "id": "b5dffa20",
   "metadata": {},
   "outputs": [
    {
     "data": {
      "text/plain": [
       "0                     3990 cc\n",
       "1                     6749 cc\n",
       "2                     1200 cc\n",
       "3                     3982 cc\n",
       "4                     5204 cc\n",
       "                ...          \n",
       "1213                  2487 cc\n",
       "1214        2393 cc + Battery\n",
       "1215    1987 cc / Hybrid batt\n",
       "1216    1798 / 1987 cc + batt\n",
       "1217           2487 cc + batt\n",
       "Name: CC/Battery Capacity, Length: 1210, dtype: object"
      ]
     },
     "execution_count": 48,
     "metadata": {},
     "output_type": "execute_result"
    }
   ],
   "source": [
    "df['CC/Battery Capacity']"
   ]
  },
  {
   "cell_type": "code",
   "execution_count": 52,
   "id": "565f0e99",
   "metadata": {},
   "outputs": [
    {
     "data": {
      "text/plain": [
       "0             963 hp\n",
       "1             563 hp\n",
       "2           70-85 hp\n",
       "3             630 hp\n",
       "4             602 hp\n",
       "            ...     \n",
       "1213          240 hp\n",
       "1214          326 hp\n",
       "1215    169  196 hp\n",
       "1216    140  198 hp\n",
       "1217    219  302 hp\n",
       "Name: HorsePower, Length: 1210, dtype: object"
      ]
     },
     "execution_count": 52,
     "metadata": {},
     "output_type": "execute_result"
    }
   ],
   "source": [
    "df['HorsePower']"
   ]
  },
  {
   "cell_type": "code",
   "execution_count": 57,
   "id": "2c781a6d",
   "metadata": {},
   "outputs": [],
   "source": [
    "df['HorsePower']=df['HorsePower'].str.replace('hp','')"
   ]
  },
  {
   "cell_type": "code",
   "execution_count": 60,
   "id": "5da68bae",
   "metadata": {},
   "outputs": [],
   "source": [
    "df['HorsePower']=df['HorsePower'].str.replace(\"–\",\"-\")\n",
    "df['HorsePower']=df['HorsePower'].str.replace(\"—\", \"-\") \n",
    "df['HorsePower']=df['HorsePower'].str.replace(\"\", \"-\")\n",
    "df['HorsePower']=df['HorsePower'].str.replace(\"~\", \"-\")\n"
   ]
  },
  {
   "cell_type": "code",
   "execution_count": 61,
   "id": "7c868d6e",
   "metadata": {},
   "outputs": [
    {
     "data": {
      "text/plain": [
       "0             963 \n",
       "1             563 \n",
       "2           70-85 \n",
       "3             630 \n",
       "4             602 \n",
       "           ...    \n",
       "1213          240 \n",
       "1214          326 \n",
       "1215    169 - 196 \n",
       "1216    140 - 198 \n",
       "1217    219 - 302 \n",
       "Name: HorsePower, Length: 1210, dtype: object"
      ]
     },
     "execution_count": 61,
     "metadata": {},
     "output_type": "execute_result"
    }
   ],
   "source": [
    "df['HorsePower']"
   ]
  },
  {
   "cell_type": "code",
   "execution_count": 63,
   "id": "c826d6e7",
   "metadata": {},
   "outputs": [],
   "source": [
    "def horse_power(value):\n",
    "    value = str(value).strip()   # make sure it's a string\n",
    "    \n",
    "    if \"-\" in value:  # range case\n",
    "        parts = [p.strip() for p in value.split(\"-\") if p.strip()]  # keep only non-empty numbers\n",
    "        \n",
    "        if len(parts) == 2:  # valid range\n",
    "            low, high = parts\n",
    "            return (int(low) + int(high)) / 2\n",
    "        elif len(parts) == 1:  # only one number present\n",
    "            return int(parts[0])\n",
    "        else:\n",
    "            return None  # something weird\n",
    "    else:  # single value\n",
    "        if value.strip().isdigit():\n",
    "            return int(value.strip())\n",
    "        else:\n",
    "            return None  # empty or invalid\n",
    "df[\"HorsePower\"] = df[\"HorsePower\"].apply(horse_power)\n"
   ]
  },
  {
   "cell_type": "code",
   "execution_count": 64,
   "id": "36901c09",
   "metadata": {},
   "outputs": [
    {
     "data": {
      "text/plain": [
       "0       963.0\n",
       "1       563.0\n",
       "2        77.5\n",
       "3       630.0\n",
       "4       602.0\n",
       "        ...  \n",
       "1213    240.0\n",
       "1214    326.0\n",
       "1215    182.5\n",
       "1216    169.0\n",
       "1217    260.5\n",
       "Name: HorsePower, Length: 1210, dtype: float64"
      ]
     },
     "execution_count": 64,
     "metadata": {},
     "output_type": "execute_result"
    }
   ],
   "source": [
    "df['HorsePower']"
   ]
  },
  {
   "cell_type": "code",
   "execution_count": 65,
   "id": "3c88c117",
   "metadata": {},
   "outputs": [
    {
     "data": {
      "text/html": [
       "<div>\n",
       "<style scoped>\n",
       "    .dataframe tbody tr th:only-of-type {\n",
       "        vertical-align: middle;\n",
       "    }\n",
       "\n",
       "    .dataframe tbody tr th {\n",
       "        vertical-align: top;\n",
       "    }\n",
       "\n",
       "    .dataframe thead th {\n",
       "        text-align: right;\n",
       "    }\n",
       "</style>\n",
       "<table border=\"1\" class=\"dataframe\">\n",
       "  <thead>\n",
       "    <tr style=\"text-align: right;\">\n",
       "      <th></th>\n",
       "      <th>Company Names</th>\n",
       "      <th>Cars Names</th>\n",
       "      <th>Engines</th>\n",
       "      <th>CC/Battery Capacity</th>\n",
       "      <th>HorsePower</th>\n",
       "      <th>Total Speed</th>\n",
       "      <th>Performance(0 - 100 )KM/H</th>\n",
       "      <th>Cars Prices</th>\n",
       "      <th>Fuel Types</th>\n",
       "      <th>Seats</th>\n",
       "      <th>Torque</th>\n",
       "    </tr>\n",
       "  </thead>\n",
       "  <tbody>\n",
       "    <tr>\n",
       "      <th>0</th>\n",
       "      <td>FERRARI</td>\n",
       "      <td>SF90 STRADALE</td>\n",
       "      <td>V8</td>\n",
       "      <td>3990 cc</td>\n",
       "      <td>963.0</td>\n",
       "      <td>340 km/h</td>\n",
       "      <td>2.5 sec</td>\n",
       "      <td>1100000.0</td>\n",
       "      <td>plug in hyrbrid</td>\n",
       "      <td>2</td>\n",
       "      <td>800 Nm</td>\n",
       "    </tr>\n",
       "    <tr>\n",
       "      <th>1</th>\n",
       "      <td>ROLLS ROYCE</td>\n",
       "      <td>PHANTOM</td>\n",
       "      <td>V12</td>\n",
       "      <td>6749 cc</td>\n",
       "      <td>563.0</td>\n",
       "      <td>250 km/h</td>\n",
       "      <td>5.3 sec</td>\n",
       "      <td>460000.0</td>\n",
       "      <td>Petrol</td>\n",
       "      <td>5</td>\n",
       "      <td>900 Nm</td>\n",
       "    </tr>\n",
       "    <tr>\n",
       "      <th>2</th>\n",
       "      <td>Ford</td>\n",
       "      <td>KA+</td>\n",
       "      <td>1.2L Petrol</td>\n",
       "      <td>1200 cc</td>\n",
       "      <td>77.5</td>\n",
       "      <td>165 km/h</td>\n",
       "      <td>10.5 sec</td>\n",
       "      <td>13500.0</td>\n",
       "      <td>Petrol</td>\n",
       "      <td>5</td>\n",
       "      <td>100 - 140 Nm</td>\n",
       "    </tr>\n",
       "    <tr>\n",
       "      <th>3</th>\n",
       "      <td>MERCEDES</td>\n",
       "      <td>GT 63 S</td>\n",
       "      <td>V8</td>\n",
       "      <td>3982 cc</td>\n",
       "      <td>630.0</td>\n",
       "      <td>250 km/h</td>\n",
       "      <td>3.2 sec</td>\n",
       "      <td>161000.0</td>\n",
       "      <td>Petrol</td>\n",
       "      <td>4</td>\n",
       "      <td>900 Nm</td>\n",
       "    </tr>\n",
       "    <tr>\n",
       "      <th>4</th>\n",
       "      <td>AUDI</td>\n",
       "      <td>AUDI R8 Gt</td>\n",
       "      <td>V10</td>\n",
       "      <td>5204 cc</td>\n",
       "      <td>602.0</td>\n",
       "      <td>320 km/h</td>\n",
       "      <td>3.6 sec</td>\n",
       "      <td>253290.0</td>\n",
       "      <td>Petrol</td>\n",
       "      <td>2</td>\n",
       "      <td>560 Nm</td>\n",
       "    </tr>\n",
       "  </tbody>\n",
       "</table>\n",
       "</div>"
      ],
      "text/plain": [
       "  Company Names     Cars Names      Engines CC/Battery Capacity  HorsePower  \\\n",
       "0       FERRARI  SF90 STRADALE           V8             3990 cc       963.0   \n",
       "1   ROLLS ROYCE        PHANTOM          V12             6749 cc       563.0   \n",
       "2          Ford            KA+  1.2L Petrol             1200 cc        77.5   \n",
       "3      MERCEDES        GT 63 S           V8             3982 cc       630.0   \n",
       "4          AUDI     AUDI R8 Gt          V10             5204 cc       602.0   \n",
       "\n",
       "  Total Speed Performance(0 - 100 )KM/H  Cars Prices       Fuel Types Seats  \\\n",
       "0    340 km/h                   2.5 sec    1100000.0  plug in hyrbrid     2   \n",
       "1    250 km/h                   5.3 sec     460000.0           Petrol     5   \n",
       "2    165 km/h                  10.5 sec      13500.0           Petrol     5   \n",
       "3    250 km/h                   3.2 sec     161000.0           Petrol     4   \n",
       "4    320 km/h                   3.6 sec     253290.0           Petrol     2   \n",
       "\n",
       "         Torque  \n",
       "0        800 Nm  \n",
       "1        900 Nm  \n",
       "2  100 - 140 Nm  \n",
       "3        900 Nm  \n",
       "4        560 Nm  "
      ]
     },
     "execution_count": 65,
     "metadata": {},
     "output_type": "execute_result"
    }
   ],
   "source": [
    "df.head()"
   ]
  },
  {
   "cell_type": "markdown",
   "id": "b4a1dba1",
   "metadata": {},
   "source": [
    "Formatting total speed"
   ]
  },
  {
   "cell_type": "code",
   "execution_count": 66,
   "id": "8f6c0416",
   "metadata": {},
   "outputs": [
    {
     "data": {
      "text/plain": [
       "0       340 km/h\n",
       "1       250 km/h\n",
       "2       165 km/h\n",
       "3       250 km/h\n",
       "4       320 km/h\n",
       "          ...   \n",
       "1213    180 km/h\n",
       "1214    180 km/h\n",
       "1215    190 km/h\n",
       "1216    180 km/h\n",
       "1217    200 km/h\n",
       "Name: Total Speed, Length: 1210, dtype: object"
      ]
     },
     "execution_count": 66,
     "metadata": {},
     "output_type": "execute_result"
    }
   ],
   "source": [
    "df['Total Speed']"
   ]
  },
  {
   "cell_type": "code",
   "execution_count": null,
   "id": "0fc47e42",
   "metadata": {},
   "outputs": [],
   "source": [
    "df['Total Speed']=df['Total Speed'].str.replace('km/h','')\n"
   ]
  },
  {
   "cell_type": "code",
   "execution_count": 68,
   "id": "3078a928",
   "metadata": {},
   "outputs": [
    {
     "data": {
      "text/plain": [
       "0       340 \n",
       "1       250 \n",
       "2       165 \n",
       "3       250 \n",
       "4       320 \n",
       "        ... \n",
       "1213    180 \n",
       "1214    180 \n",
       "1215    190 \n",
       "1216    180 \n",
       "1217    200 \n",
       "Name: Total Speed, Length: 1210, dtype: object"
      ]
     },
     "execution_count": 68,
     "metadata": {},
     "output_type": "execute_result"
    }
   ],
   "source": [
    "df['Total Speed']"
   ]
  },
  {
   "cell_type": "code",
   "execution_count": 69,
   "id": "d1ba8742",
   "metadata": {},
   "outputs": [
    {
     "data": {
      "text/html": [
       "<div>\n",
       "<style scoped>\n",
       "    .dataframe tbody tr th:only-of-type {\n",
       "        vertical-align: middle;\n",
       "    }\n",
       "\n",
       "    .dataframe tbody tr th {\n",
       "        vertical-align: top;\n",
       "    }\n",
       "\n",
       "    .dataframe thead th {\n",
       "        text-align: right;\n",
       "    }\n",
       "</style>\n",
       "<table border=\"1\" class=\"dataframe\">\n",
       "  <thead>\n",
       "    <tr style=\"text-align: right;\">\n",
       "      <th></th>\n",
       "      <th>Company Names</th>\n",
       "      <th>Cars Names</th>\n",
       "      <th>Engines</th>\n",
       "      <th>CC/Battery Capacity</th>\n",
       "      <th>HorsePower</th>\n",
       "      <th>Total Speed</th>\n",
       "      <th>Performance(0 - 100 )KM/H</th>\n",
       "      <th>Cars Prices</th>\n",
       "      <th>Fuel Types</th>\n",
       "      <th>Seats</th>\n",
       "      <th>Torque</th>\n",
       "    </tr>\n",
       "  </thead>\n",
       "  <tbody>\n",
       "    <tr>\n",
       "      <th>0</th>\n",
       "      <td>FERRARI</td>\n",
       "      <td>SF90 STRADALE</td>\n",
       "      <td>V8</td>\n",
       "      <td>3990 cc</td>\n",
       "      <td>963.0</td>\n",
       "      <td>340</td>\n",
       "      <td>2.5 sec</td>\n",
       "      <td>1100000.0</td>\n",
       "      <td>plug in hyrbrid</td>\n",
       "      <td>2</td>\n",
       "      <td>800 Nm</td>\n",
       "    </tr>\n",
       "    <tr>\n",
       "      <th>1</th>\n",
       "      <td>ROLLS ROYCE</td>\n",
       "      <td>PHANTOM</td>\n",
       "      <td>V12</td>\n",
       "      <td>6749 cc</td>\n",
       "      <td>563.0</td>\n",
       "      <td>250</td>\n",
       "      <td>5.3 sec</td>\n",
       "      <td>460000.0</td>\n",
       "      <td>Petrol</td>\n",
       "      <td>5</td>\n",
       "      <td>900 Nm</td>\n",
       "    </tr>\n",
       "    <tr>\n",
       "      <th>2</th>\n",
       "      <td>Ford</td>\n",
       "      <td>KA+</td>\n",
       "      <td>1.2L Petrol</td>\n",
       "      <td>1200 cc</td>\n",
       "      <td>77.5</td>\n",
       "      <td>165</td>\n",
       "      <td>10.5 sec</td>\n",
       "      <td>13500.0</td>\n",
       "      <td>Petrol</td>\n",
       "      <td>5</td>\n",
       "      <td>100 - 140 Nm</td>\n",
       "    </tr>\n",
       "    <tr>\n",
       "      <th>3</th>\n",
       "      <td>MERCEDES</td>\n",
       "      <td>GT 63 S</td>\n",
       "      <td>V8</td>\n",
       "      <td>3982 cc</td>\n",
       "      <td>630.0</td>\n",
       "      <td>250</td>\n",
       "      <td>3.2 sec</td>\n",
       "      <td>161000.0</td>\n",
       "      <td>Petrol</td>\n",
       "      <td>4</td>\n",
       "      <td>900 Nm</td>\n",
       "    </tr>\n",
       "    <tr>\n",
       "      <th>4</th>\n",
       "      <td>AUDI</td>\n",
       "      <td>AUDI R8 Gt</td>\n",
       "      <td>V10</td>\n",
       "      <td>5204 cc</td>\n",
       "      <td>602.0</td>\n",
       "      <td>320</td>\n",
       "      <td>3.6 sec</td>\n",
       "      <td>253290.0</td>\n",
       "      <td>Petrol</td>\n",
       "      <td>2</td>\n",
       "      <td>560 Nm</td>\n",
       "    </tr>\n",
       "  </tbody>\n",
       "</table>\n",
       "</div>"
      ],
      "text/plain": [
       "  Company Names     Cars Names      Engines CC/Battery Capacity  HorsePower  \\\n",
       "0       FERRARI  SF90 STRADALE           V8             3990 cc       963.0   \n",
       "1   ROLLS ROYCE        PHANTOM          V12             6749 cc       563.0   \n",
       "2          Ford            KA+  1.2L Petrol             1200 cc        77.5   \n",
       "3      MERCEDES        GT 63 S           V8             3982 cc       630.0   \n",
       "4          AUDI     AUDI R8 Gt          V10             5204 cc       602.0   \n",
       "\n",
       "  Total Speed Performance(0 - 100 )KM/H  Cars Prices       Fuel Types Seats  \\\n",
       "0        340                    2.5 sec    1100000.0  plug in hyrbrid     2   \n",
       "1        250                    5.3 sec     460000.0           Petrol     5   \n",
       "2        165                   10.5 sec      13500.0           Petrol     5   \n",
       "3        250                    3.2 sec     161000.0           Petrol     4   \n",
       "4        320                    3.6 sec     253290.0           Petrol     2   \n",
       "\n",
       "         Torque  \n",
       "0        800 Nm  \n",
       "1        900 Nm  \n",
       "2  100 - 140 Nm  \n",
       "3        900 Nm  \n",
       "4        560 Nm  "
      ]
     },
     "execution_count": 69,
     "metadata": {},
     "output_type": "execute_result"
    }
   ],
   "source": [
    "df.head()"
   ]
  },
  {
   "cell_type": "code",
   "execution_count": 70,
   "id": "84b68c16",
   "metadata": {},
   "outputs": [
    {
     "data": {
      "text/plain": [
       "0              2.5 sec\n",
       "1              5.3 sec\n",
       "2             10.5 sec\n",
       "3              3.2 sec\n",
       "4              3.6 sec\n",
       "             ...      \n",
       "1213           7.6 sec\n",
       "1214           6.8 sec\n",
       "1215     8.0  9.2 sec\n",
       "1216    7.9  10.5 sec\n",
       "1217     6.0  8.1 sec\n",
       "Name: Performance(0 - 100 )KM/H, Length: 1210, dtype: object"
      ]
     },
     "execution_count": 70,
     "metadata": {},
     "output_type": "execute_result"
    }
   ],
   "source": [
    "df['Performance(0 - 100 )KM/H']"
   ]
  },
  {
   "cell_type": "code",
   "execution_count": 71,
   "id": "4fd20975",
   "metadata": {},
   "outputs": [],
   "source": [
    "df['Performance(0 - 100 )KM/H']=df['Performance(0 - 100 )KM/H'].str.replace('sec','')"
   ]
  },
  {
   "cell_type": "code",
   "execution_count": 80,
   "id": "e44ee75d",
   "metadata": {},
   "outputs": [
    {
     "data": {
      "text/plain": [
       "0       None\n",
       "1       None\n",
       "2       None\n",
       "3       None\n",
       "4       None\n",
       "        ... \n",
       "1213    None\n",
       "1214    None\n",
       "1215    None\n",
       "1216    None\n",
       "1217    None\n",
       "Name: Performance(0 - 100 )KM/H, Length: 1210, dtype: object"
      ]
     },
     "execution_count": 80,
     "metadata": {},
     "output_type": "execute_result"
    }
   ],
   "source": [
    "df['Performance(0 - 100 )KM/H']"
   ]
  },
  {
   "cell_type": "code",
   "execution_count": 73,
   "id": "e3fee4e6",
   "metadata": {},
   "outputs": [],
   "source": [
    "df['Performance(0 - 100 )KM/H']=df['Performance(0 - 100 )KM/H'].str.replace(\"–\",\"-\")\n",
    "df['Performance(0 - 100 )KM/H']=df['Performance(0 - 100 )KM/H'].str.replace(\"—\", \"-\") \n",
    "df['Performance(0 - 100 )KM/H']=df['Performance(0 - 100 )KM/H'].str.replace(\"\", \"-\")\n",
    "df['Performance(0 - 100 )KM/H']=df['Performance(0 - 100 )KM/H'].str.replace(\"~\", \"-\")"
   ]
  },
  {
   "cell_type": "code",
   "execution_count": 79,
   "id": "e52a95e0",
   "metadata": {},
   "outputs": [],
   "source": [
    "def performance(value):\n",
    "    value = str(value).strip()   # make sure it's a string\n",
    "    \n",
    "    if \"-\" in value:  # range case\n",
    "        parts = [p.strip() for p in value.split(\"-\") if p.strip()]  # keep only non-empty numbers\n",
    "        \n",
    "        if len(parts) == 2:  # valid range\n",
    "            low, high = parts\n",
    "            return (int(low) + int(high)) / 2\n",
    "        elif len(parts) == 1:  # only one number present\n",
    "            return int(parts[0])\n",
    "        else:\n",
    "            return None  # something weird\n",
    "    else:  # single value\n",
    "        if value.strip().isdigit():\n",
    "            return int(value.strip())\n",
    "        else:\n",
    "            return None  # empty or invalid\n",
    "df['Performance(0 - 100 )KM/H'] = df['Performance(0 - 100 )KM/H'].apply(performance)"
   ]
  },
  {
   "cell_type": "code",
   "execution_count": 81,
   "id": "84c677bc",
   "metadata": {},
   "outputs": [],
   "source": [
    "df = df.drop(columns=['Performance(0 - 100 )KM/H'])\n"
   ]
  },
  {
   "cell_type": "code",
   "execution_count": 82,
   "id": "51169766",
   "metadata": {},
   "outputs": [
    {
     "data": {
      "text/html": [
       "<div>\n",
       "<style scoped>\n",
       "    .dataframe tbody tr th:only-of-type {\n",
       "        vertical-align: middle;\n",
       "    }\n",
       "\n",
       "    .dataframe tbody tr th {\n",
       "        vertical-align: top;\n",
       "    }\n",
       "\n",
       "    .dataframe thead th {\n",
       "        text-align: right;\n",
       "    }\n",
       "</style>\n",
       "<table border=\"1\" class=\"dataframe\">\n",
       "  <thead>\n",
       "    <tr style=\"text-align: right;\">\n",
       "      <th></th>\n",
       "      <th>Company Names</th>\n",
       "      <th>Cars Names</th>\n",
       "      <th>Engines</th>\n",
       "      <th>CC/Battery Capacity</th>\n",
       "      <th>HorsePower</th>\n",
       "      <th>Total Speed</th>\n",
       "      <th>Cars Prices</th>\n",
       "      <th>Fuel Types</th>\n",
       "      <th>Seats</th>\n",
       "      <th>Torque</th>\n",
       "    </tr>\n",
       "  </thead>\n",
       "  <tbody>\n",
       "    <tr>\n",
       "      <th>0</th>\n",
       "      <td>FERRARI</td>\n",
       "      <td>SF90 STRADALE</td>\n",
       "      <td>V8</td>\n",
       "      <td>3990 cc</td>\n",
       "      <td>963.0</td>\n",
       "      <td>340</td>\n",
       "      <td>1100000.0</td>\n",
       "      <td>plug in hyrbrid</td>\n",
       "      <td>2</td>\n",
       "      <td>800 Nm</td>\n",
       "    </tr>\n",
       "    <tr>\n",
       "      <th>1</th>\n",
       "      <td>ROLLS ROYCE</td>\n",
       "      <td>PHANTOM</td>\n",
       "      <td>V12</td>\n",
       "      <td>6749 cc</td>\n",
       "      <td>563.0</td>\n",
       "      <td>250</td>\n",
       "      <td>460000.0</td>\n",
       "      <td>Petrol</td>\n",
       "      <td>5</td>\n",
       "      <td>900 Nm</td>\n",
       "    </tr>\n",
       "    <tr>\n",
       "      <th>2</th>\n",
       "      <td>Ford</td>\n",
       "      <td>KA+</td>\n",
       "      <td>1.2L Petrol</td>\n",
       "      <td>1200 cc</td>\n",
       "      <td>77.5</td>\n",
       "      <td>165</td>\n",
       "      <td>13500.0</td>\n",
       "      <td>Petrol</td>\n",
       "      <td>5</td>\n",
       "      <td>100 - 140 Nm</td>\n",
       "    </tr>\n",
       "    <tr>\n",
       "      <th>3</th>\n",
       "      <td>MERCEDES</td>\n",
       "      <td>GT 63 S</td>\n",
       "      <td>V8</td>\n",
       "      <td>3982 cc</td>\n",
       "      <td>630.0</td>\n",
       "      <td>250</td>\n",
       "      <td>161000.0</td>\n",
       "      <td>Petrol</td>\n",
       "      <td>4</td>\n",
       "      <td>900 Nm</td>\n",
       "    </tr>\n",
       "    <tr>\n",
       "      <th>4</th>\n",
       "      <td>AUDI</td>\n",
       "      <td>AUDI R8 Gt</td>\n",
       "      <td>V10</td>\n",
       "      <td>5204 cc</td>\n",
       "      <td>602.0</td>\n",
       "      <td>320</td>\n",
       "      <td>253290.0</td>\n",
       "      <td>Petrol</td>\n",
       "      <td>2</td>\n",
       "      <td>560 Nm</td>\n",
       "    </tr>\n",
       "  </tbody>\n",
       "</table>\n",
       "</div>"
      ],
      "text/plain": [
       "  Company Names     Cars Names      Engines CC/Battery Capacity  HorsePower  \\\n",
       "0       FERRARI  SF90 STRADALE           V8             3990 cc       963.0   \n",
       "1   ROLLS ROYCE        PHANTOM          V12             6749 cc       563.0   \n",
       "2          Ford            KA+  1.2L Petrol             1200 cc        77.5   \n",
       "3      MERCEDES        GT 63 S           V8             3982 cc       630.0   \n",
       "4          AUDI     AUDI R8 Gt          V10             5204 cc       602.0   \n",
       "\n",
       "  Total Speed  Cars Prices       Fuel Types Seats        Torque  \n",
       "0        340     1100000.0  plug in hyrbrid     2        800 Nm  \n",
       "1        250      460000.0           Petrol     5        900 Nm  \n",
       "2        165       13500.0           Petrol     5  100 - 140 Nm  \n",
       "3        250      161000.0           Petrol     4        900 Nm  \n",
       "4        320      253290.0           Petrol     2        560 Nm  "
      ]
     },
     "execution_count": 82,
     "metadata": {},
     "output_type": "execute_result"
    }
   ],
   "source": [
    "df.head()"
   ]
  },
  {
   "cell_type": "code",
   "execution_count": 83,
   "id": "6e12be07",
   "metadata": {},
   "outputs": [
    {
     "data": {
      "text/plain": [
       "0             800 Nm\n",
       "1             900 Nm\n",
       "2       100 - 140 Nm\n",
       "3             900 Nm\n",
       "4             560 Nm\n",
       "            ...     \n",
       "1213          239 Nm\n",
       "1214          630 Nm\n",
       "1215    190  210 Nm\n",
       "1216    190  205 Nm\n",
       "1217    221  400 Nm\n",
       "Name: Torque, Length: 1210, dtype: object"
      ]
     },
     "execution_count": 83,
     "metadata": {},
     "output_type": "execute_result"
    }
   ],
   "source": [
    "df['Torque']"
   ]
  },
  {
   "cell_type": "code",
   "execution_count": 89,
   "id": "4a35e767",
   "metadata": {},
   "outputs": [],
   "source": [
    "df['Torque']=df['Torque'].str.replace('Nm','')"
   ]
  },
  {
   "cell_type": "code",
   "execution_count": 85,
   "id": "c34238d3",
   "metadata": {},
   "outputs": [],
   "source": [
    "df['Torque']=df['Torque'].str.replace(\"–\",\"-\")\n",
    "df['Torque']=df['Torque'].str.replace(\"—\", \"-\") \n",
    "df['Torque']=df['Torque'].str.replace(\"\", \"-\")\n",
    "df['Torque']=df['Torque'].str.replace(\"~\", \"-\")"
   ]
  },
  {
   "cell_type": "code",
   "execution_count": 90,
   "id": "38a8ed40",
   "metadata": {},
   "outputs": [
    {
     "data": {
      "text/plain": [
       "0          800 \n",
       "1          900 \n",
       "2    100 - 140 \n",
       "3          900 \n",
       "4          560 \n",
       "Name: Torque, dtype: object"
      ]
     },
     "execution_count": 90,
     "metadata": {},
     "output_type": "execute_result"
    }
   ],
   "source": [
    "df['Torque'].head()"
   ]
  },
  {
   "cell_type": "code",
   "execution_count": 91,
   "id": "6353bad6",
   "metadata": {},
   "outputs": [
    {
     "data": {
      "text/plain": [
       "1213          239 \n",
       "1214          630 \n",
       "1215    190 - 210 \n",
       "1216    190 - 205 \n",
       "1217    221 - 400 \n",
       "Name: Torque, dtype: object"
      ]
     },
     "execution_count": 91,
     "metadata": {},
     "output_type": "execute_result"
    }
   ],
   "source": [
    "df['Torque'].tail()"
   ]
  },
  {
   "cell_type": "code",
   "execution_count": 92,
   "id": "746924be",
   "metadata": {},
   "outputs": [],
   "source": [
    "import re\n",
    "\n",
    "def process_torque(value):\n",
    "    # Remove all non-numeric and non-dash characters (e.g., \"Nm\")\n",
    "    cleaned = re.sub(r\"[^0-9\\- ]\", \"\", str(value)).strip()\n",
    "    \n",
    "    # If it's a range\n",
    "    if \"-\" in cleaned:\n",
    "        parts = [p.strip() for p in cleaned.split(\"-\") if p.strip()]\n",
    "        if len(parts) == 2:  # valid range\n",
    "            low, high = parts\n",
    "            return (int(low) + int(high)) / 2\n",
    "        elif len(parts) == 1:  # fallback if only one number\n",
    "            return int(parts[0])\n",
    "        else:\n",
    "            return None\n",
    "    else:  # single value\n",
    "        return int(cleaned) if cleaned.isdigit() else None\n",
    "\n",
    "# Apply function to your column\n",
    "df[\"Torque\"] = df[\"Torque\"].apply(process_torque)\n"
   ]
  },
  {
   "cell_type": "code",
   "execution_count": 93,
   "id": "2b5f48ce",
   "metadata": {},
   "outputs": [
    {
     "data": {
      "text/plain": [
       "0       800.0\n",
       "1       900.0\n",
       "2       120.0\n",
       "3       900.0\n",
       "4       560.0\n",
       "        ...  \n",
       "1213    239.0\n",
       "1214    630.0\n",
       "1215    200.0\n",
       "1216    197.5\n",
       "1217    310.5\n",
       "Name: Torque, Length: 1210, dtype: float64"
      ]
     },
     "execution_count": 93,
     "metadata": {},
     "output_type": "execute_result"
    }
   ],
   "source": [
    "df['Torque']"
   ]
  },
  {
   "cell_type": "code",
   "execution_count": 94,
   "id": "8327af18",
   "metadata": {},
   "outputs": [
    {
     "data": {
      "text/html": [
       "<div>\n",
       "<style scoped>\n",
       "    .dataframe tbody tr th:only-of-type {\n",
       "        vertical-align: middle;\n",
       "    }\n",
       "\n",
       "    .dataframe tbody tr th {\n",
       "        vertical-align: top;\n",
       "    }\n",
       "\n",
       "    .dataframe thead th {\n",
       "        text-align: right;\n",
       "    }\n",
       "</style>\n",
       "<table border=\"1\" class=\"dataframe\">\n",
       "  <thead>\n",
       "    <tr style=\"text-align: right;\">\n",
       "      <th></th>\n",
       "      <th>Company Names</th>\n",
       "      <th>Cars Names</th>\n",
       "      <th>Engines</th>\n",
       "      <th>CC/Battery Capacity</th>\n",
       "      <th>HorsePower</th>\n",
       "      <th>Total Speed</th>\n",
       "      <th>Cars Prices</th>\n",
       "      <th>Fuel Types</th>\n",
       "      <th>Seats</th>\n",
       "      <th>Torque</th>\n",
       "    </tr>\n",
       "  </thead>\n",
       "  <tbody>\n",
       "    <tr>\n",
       "      <th>0</th>\n",
       "      <td>FERRARI</td>\n",
       "      <td>SF90 STRADALE</td>\n",
       "      <td>V8</td>\n",
       "      <td>3990 cc</td>\n",
       "      <td>963.0</td>\n",
       "      <td>340</td>\n",
       "      <td>1100000.0</td>\n",
       "      <td>plug in hyrbrid</td>\n",
       "      <td>2</td>\n",
       "      <td>800.0</td>\n",
       "    </tr>\n",
       "    <tr>\n",
       "      <th>1</th>\n",
       "      <td>ROLLS ROYCE</td>\n",
       "      <td>PHANTOM</td>\n",
       "      <td>V12</td>\n",
       "      <td>6749 cc</td>\n",
       "      <td>563.0</td>\n",
       "      <td>250</td>\n",
       "      <td>460000.0</td>\n",
       "      <td>Petrol</td>\n",
       "      <td>5</td>\n",
       "      <td>900.0</td>\n",
       "    </tr>\n",
       "    <tr>\n",
       "      <th>2</th>\n",
       "      <td>Ford</td>\n",
       "      <td>KA+</td>\n",
       "      <td>1.2L Petrol</td>\n",
       "      <td>1200 cc</td>\n",
       "      <td>77.5</td>\n",
       "      <td>165</td>\n",
       "      <td>13500.0</td>\n",
       "      <td>Petrol</td>\n",
       "      <td>5</td>\n",
       "      <td>120.0</td>\n",
       "    </tr>\n",
       "    <tr>\n",
       "      <th>3</th>\n",
       "      <td>MERCEDES</td>\n",
       "      <td>GT 63 S</td>\n",
       "      <td>V8</td>\n",
       "      <td>3982 cc</td>\n",
       "      <td>630.0</td>\n",
       "      <td>250</td>\n",
       "      <td>161000.0</td>\n",
       "      <td>Petrol</td>\n",
       "      <td>4</td>\n",
       "      <td>900.0</td>\n",
       "    </tr>\n",
       "    <tr>\n",
       "      <th>4</th>\n",
       "      <td>AUDI</td>\n",
       "      <td>AUDI R8 Gt</td>\n",
       "      <td>V10</td>\n",
       "      <td>5204 cc</td>\n",
       "      <td>602.0</td>\n",
       "      <td>320</td>\n",
       "      <td>253290.0</td>\n",
       "      <td>Petrol</td>\n",
       "      <td>2</td>\n",
       "      <td>560.0</td>\n",
       "    </tr>\n",
       "  </tbody>\n",
       "</table>\n",
       "</div>"
      ],
      "text/plain": [
       "  Company Names     Cars Names      Engines CC/Battery Capacity  HorsePower  \\\n",
       "0       FERRARI  SF90 STRADALE           V8             3990 cc       963.0   \n",
       "1   ROLLS ROYCE        PHANTOM          V12             6749 cc       563.0   \n",
       "2          Ford            KA+  1.2L Petrol             1200 cc        77.5   \n",
       "3      MERCEDES        GT 63 S           V8             3982 cc       630.0   \n",
       "4          AUDI     AUDI R8 Gt          V10             5204 cc       602.0   \n",
       "\n",
       "  Total Speed  Cars Prices       Fuel Types Seats  Torque  \n",
       "0        340     1100000.0  plug in hyrbrid     2   800.0  \n",
       "1        250      460000.0           Petrol     5   900.0  \n",
       "2        165       13500.0           Petrol     5   120.0  \n",
       "3        250      161000.0           Petrol     4   900.0  \n",
       "4        320      253290.0           Petrol     2   560.0  "
      ]
     },
     "execution_count": 94,
     "metadata": {},
     "output_type": "execute_result"
    }
   ],
   "source": [
    "df.head()"
   ]
  },
  {
   "cell_type": "code",
   "execution_count": 95,
   "id": "3e886956",
   "metadata": {},
   "outputs": [
    {
     "name": "stdout",
     "output_type": "stream",
     "text": [
      "<class 'pandas.core.frame.DataFrame'>\n",
      "Index: 1210 entries, 0 to 1217\n",
      "Data columns (total 10 columns):\n",
      " #   Column               Non-Null Count  Dtype  \n",
      "---  ------               --------------  -----  \n",
      " 0   Company Names        1210 non-null   object \n",
      " 1   Cars Names           1210 non-null   object \n",
      " 2   Engines              1210 non-null   object \n",
      " 3   CC/Battery Capacity  1210 non-null   object \n",
      " 4   HorsePower           1027 non-null   float64\n",
      " 5   Total Speed          1210 non-null   object \n",
      " 6   Cars Prices          1210 non-null   float64\n",
      " 7   Fuel Types           1210 non-null   object \n",
      " 8   Seats                1210 non-null   object \n",
      " 9   Torque               1206 non-null   float64\n",
      "dtypes: float64(3), object(7)\n",
      "memory usage: 136.3+ KB\n"
     ]
    }
   ],
   "source": [
    "df.info()"
   ]
  },
  {
   "cell_type": "code",
   "execution_count": 96,
   "id": "263b1949",
   "metadata": {},
   "outputs": [],
   "source": [
    "df['CC/Battery Capacity']=df['CC/Battery Capacity'].str.replace('cc','')"
   ]
  },
  {
   "cell_type": "code",
   "execution_count": 97,
   "id": "b6f57853",
   "metadata": {},
   "outputs": [
    {
     "data": {
      "text/plain": [
       "0                     3990 \n",
       "1                     6749 \n",
       "2                     1200 \n",
       "3                     3982 \n",
       "4                     5204 \n",
       "               ...         \n",
       "1213                  2487 \n",
       "1214        2393  + Battery\n",
       "1215    1987  / Hybrid batt\n",
       "1216    1798 / 1987  + batt\n",
       "1217           2487  + batt\n",
       "Name: CC/Battery Capacity, Length: 1210, dtype: object"
      ]
     },
     "execution_count": 97,
     "metadata": {},
     "output_type": "execute_result"
    }
   ],
   "source": [
    "df['CC/Battery Capacity']"
   ]
  },
  {
   "cell_type": "code",
   "execution_count": 98,
   "id": "09ec7f87",
   "metadata": {},
   "outputs": [
    {
     "data": {
      "text/html": [
       "<div>\n",
       "<style scoped>\n",
       "    .dataframe tbody tr th:only-of-type {\n",
       "        vertical-align: middle;\n",
       "    }\n",
       "\n",
       "    .dataframe tbody tr th {\n",
       "        vertical-align: top;\n",
       "    }\n",
       "\n",
       "    .dataframe thead th {\n",
       "        text-align: right;\n",
       "    }\n",
       "</style>\n",
       "<table border=\"1\" class=\"dataframe\">\n",
       "  <thead>\n",
       "    <tr style=\"text-align: right;\">\n",
       "      <th></th>\n",
       "      <th>Company Names</th>\n",
       "      <th>Cars Names</th>\n",
       "      <th>Engines</th>\n",
       "      <th>CC/Battery Capacity</th>\n",
       "      <th>HorsePower</th>\n",
       "      <th>Total Speed</th>\n",
       "      <th>Cars Prices</th>\n",
       "      <th>Fuel Types</th>\n",
       "      <th>Seats</th>\n",
       "      <th>Torque</th>\n",
       "    </tr>\n",
       "  </thead>\n",
       "  <tbody>\n",
       "    <tr>\n",
       "      <th>0</th>\n",
       "      <td>FERRARI</td>\n",
       "      <td>SF90 STRADALE</td>\n",
       "      <td>V8</td>\n",
       "      <td>3990</td>\n",
       "      <td>963.0</td>\n",
       "      <td>340</td>\n",
       "      <td>1100000.0</td>\n",
       "      <td>plug in hyrbrid</td>\n",
       "      <td>2</td>\n",
       "      <td>800.0</td>\n",
       "    </tr>\n",
       "    <tr>\n",
       "      <th>1</th>\n",
       "      <td>ROLLS ROYCE</td>\n",
       "      <td>PHANTOM</td>\n",
       "      <td>V12</td>\n",
       "      <td>6749</td>\n",
       "      <td>563.0</td>\n",
       "      <td>250</td>\n",
       "      <td>460000.0</td>\n",
       "      <td>Petrol</td>\n",
       "      <td>5</td>\n",
       "      <td>900.0</td>\n",
       "    </tr>\n",
       "    <tr>\n",
       "      <th>2</th>\n",
       "      <td>Ford</td>\n",
       "      <td>KA+</td>\n",
       "      <td>1.2L Petrol</td>\n",
       "      <td>1200</td>\n",
       "      <td>77.5</td>\n",
       "      <td>165</td>\n",
       "      <td>13500.0</td>\n",
       "      <td>Petrol</td>\n",
       "      <td>5</td>\n",
       "      <td>120.0</td>\n",
       "    </tr>\n",
       "    <tr>\n",
       "      <th>3</th>\n",
       "      <td>MERCEDES</td>\n",
       "      <td>GT 63 S</td>\n",
       "      <td>V8</td>\n",
       "      <td>3982</td>\n",
       "      <td>630.0</td>\n",
       "      <td>250</td>\n",
       "      <td>161000.0</td>\n",
       "      <td>Petrol</td>\n",
       "      <td>4</td>\n",
       "      <td>900.0</td>\n",
       "    </tr>\n",
       "    <tr>\n",
       "      <th>4</th>\n",
       "      <td>AUDI</td>\n",
       "      <td>AUDI R8 Gt</td>\n",
       "      <td>V10</td>\n",
       "      <td>5204</td>\n",
       "      <td>602.0</td>\n",
       "      <td>320</td>\n",
       "      <td>253290.0</td>\n",
       "      <td>Petrol</td>\n",
       "      <td>2</td>\n",
       "      <td>560.0</td>\n",
       "    </tr>\n",
       "  </tbody>\n",
       "</table>\n",
       "</div>"
      ],
      "text/plain": [
       "  Company Names     Cars Names      Engines CC/Battery Capacity  HorsePower  \\\n",
       "0       FERRARI  SF90 STRADALE           V8               3990        963.0   \n",
       "1   ROLLS ROYCE        PHANTOM          V12               6749        563.0   \n",
       "2          Ford            KA+  1.2L Petrol               1200         77.5   \n",
       "3      MERCEDES        GT 63 S           V8               3982        630.0   \n",
       "4          AUDI     AUDI R8 Gt          V10               5204        602.0   \n",
       "\n",
       "  Total Speed  Cars Prices       Fuel Types Seats  Torque  \n",
       "0        340     1100000.0  plug in hyrbrid     2   800.0  \n",
       "1        250      460000.0           Petrol     5   900.0  \n",
       "2        165       13500.0           Petrol     5   120.0  \n",
       "3        250      161000.0           Petrol     4   900.0  \n",
       "4        320      253290.0           Petrol     2   560.0  "
      ]
     },
     "execution_count": 98,
     "metadata": {},
     "output_type": "execute_result"
    }
   ],
   "source": [
    "df.head()"
   ]
  },
  {
   "cell_type": "code",
   "execution_count": 99,
   "id": "e4615aeb",
   "metadata": {},
   "outputs": [],
   "source": [
    "df['Speed Unit']='km/h'"
   ]
  },
  {
   "cell_type": "code",
   "execution_count": 100,
   "id": "102bb3dc",
   "metadata": {},
   "outputs": [
    {
     "data": {
      "text/html": [
       "<div>\n",
       "<style scoped>\n",
       "    .dataframe tbody tr th:only-of-type {\n",
       "        vertical-align: middle;\n",
       "    }\n",
       "\n",
       "    .dataframe tbody tr th {\n",
       "        vertical-align: top;\n",
       "    }\n",
       "\n",
       "    .dataframe thead th {\n",
       "        text-align: right;\n",
       "    }\n",
       "</style>\n",
       "<table border=\"1\" class=\"dataframe\">\n",
       "  <thead>\n",
       "    <tr style=\"text-align: right;\">\n",
       "      <th></th>\n",
       "      <th>Company Names</th>\n",
       "      <th>Cars Names</th>\n",
       "      <th>Engines</th>\n",
       "      <th>CC/Battery Capacity</th>\n",
       "      <th>HorsePower</th>\n",
       "      <th>Total Speed</th>\n",
       "      <th>Cars Prices</th>\n",
       "      <th>Fuel Types</th>\n",
       "      <th>Seats</th>\n",
       "      <th>Torque</th>\n",
       "      <th>Speed Unit</th>\n",
       "    </tr>\n",
       "  </thead>\n",
       "  <tbody>\n",
       "    <tr>\n",
       "      <th>0</th>\n",
       "      <td>FERRARI</td>\n",
       "      <td>SF90 STRADALE</td>\n",
       "      <td>V8</td>\n",
       "      <td>3990</td>\n",
       "      <td>963.0</td>\n",
       "      <td>340</td>\n",
       "      <td>1100000.0</td>\n",
       "      <td>plug in hyrbrid</td>\n",
       "      <td>2</td>\n",
       "      <td>800.0</td>\n",
       "      <td>km/h</td>\n",
       "    </tr>\n",
       "    <tr>\n",
       "      <th>1</th>\n",
       "      <td>ROLLS ROYCE</td>\n",
       "      <td>PHANTOM</td>\n",
       "      <td>V12</td>\n",
       "      <td>6749</td>\n",
       "      <td>563.0</td>\n",
       "      <td>250</td>\n",
       "      <td>460000.0</td>\n",
       "      <td>Petrol</td>\n",
       "      <td>5</td>\n",
       "      <td>900.0</td>\n",
       "      <td>km/h</td>\n",
       "    </tr>\n",
       "    <tr>\n",
       "      <th>2</th>\n",
       "      <td>Ford</td>\n",
       "      <td>KA+</td>\n",
       "      <td>1.2L Petrol</td>\n",
       "      <td>1200</td>\n",
       "      <td>77.5</td>\n",
       "      <td>165</td>\n",
       "      <td>13500.0</td>\n",
       "      <td>Petrol</td>\n",
       "      <td>5</td>\n",
       "      <td>120.0</td>\n",
       "      <td>km/h</td>\n",
       "    </tr>\n",
       "    <tr>\n",
       "      <th>3</th>\n",
       "      <td>MERCEDES</td>\n",
       "      <td>GT 63 S</td>\n",
       "      <td>V8</td>\n",
       "      <td>3982</td>\n",
       "      <td>630.0</td>\n",
       "      <td>250</td>\n",
       "      <td>161000.0</td>\n",
       "      <td>Petrol</td>\n",
       "      <td>4</td>\n",
       "      <td>900.0</td>\n",
       "      <td>km/h</td>\n",
       "    </tr>\n",
       "    <tr>\n",
       "      <th>4</th>\n",
       "      <td>AUDI</td>\n",
       "      <td>AUDI R8 Gt</td>\n",
       "      <td>V10</td>\n",
       "      <td>5204</td>\n",
       "      <td>602.0</td>\n",
       "      <td>320</td>\n",
       "      <td>253290.0</td>\n",
       "      <td>Petrol</td>\n",
       "      <td>2</td>\n",
       "      <td>560.0</td>\n",
       "      <td>km/h</td>\n",
       "    </tr>\n",
       "  </tbody>\n",
       "</table>\n",
       "</div>"
      ],
      "text/plain": [
       "  Company Names     Cars Names      Engines CC/Battery Capacity  HorsePower  \\\n",
       "0       FERRARI  SF90 STRADALE           V8               3990        963.0   \n",
       "1   ROLLS ROYCE        PHANTOM          V12               6749        563.0   \n",
       "2          Ford            KA+  1.2L Petrol               1200         77.5   \n",
       "3      MERCEDES        GT 63 S           V8               3982        630.0   \n",
       "4          AUDI     AUDI R8 Gt          V10               5204        602.0   \n",
       "\n",
       "  Total Speed  Cars Prices       Fuel Types Seats  Torque Speed Unit  \n",
       "0        340     1100000.0  plug in hyrbrid     2   800.0       km/h  \n",
       "1        250      460000.0           Petrol     5   900.0       km/h  \n",
       "2        165       13500.0           Petrol     5   120.0       km/h  \n",
       "3        250      161000.0           Petrol     4   900.0       km/h  \n",
       "4        320      253290.0           Petrol     2   560.0       km/h  "
      ]
     },
     "execution_count": 100,
     "metadata": {},
     "output_type": "execute_result"
    }
   ],
   "source": [
    "df.head()"
   ]
  },
  {
   "cell_type": "markdown",
   "id": "66bc3db0",
   "metadata": {},
   "source": [
    "Encoding Categorical Variables For ML"
   ]
  },
  {
   "cell_type": "code",
   "execution_count": 102,
   "id": "57aa0611",
   "metadata": {},
   "outputs": [],
   "source": [
    "from sklearn.preprocessing import LabelEncoder,StandardScaler"
   ]
  },
  {
   "cell_type": "code",
   "execution_count": 104,
   "id": "180cae1e",
   "metadata": {},
   "outputs": [],
   "source": [
    "df['Cars Names']=LabelEncoder().fit_transform(df['Cars Names'])"
   ]
  },
  {
   "cell_type": "code",
   "execution_count": 105,
   "id": "adbce66c",
   "metadata": {},
   "outputs": [
    {
     "data": {
      "text/plain": [
       "0       882\n",
       "1       735\n",
       "2       606\n",
       "3         0\n",
       "4       139\n",
       "       ... \n",
       "1213    347\n",
       "1214     67\n",
       "1215    339\n",
       "1216    240\n",
       "1217    837\n",
       "Name: Cars Names, Length: 1210, dtype: int64"
      ]
     },
     "execution_count": 105,
     "metadata": {},
     "output_type": "execute_result"
    }
   ],
   "source": [
    "df['Cars Names']"
   ]
  },
  {
   "cell_type": "code",
   "execution_count": 106,
   "id": "31932a24",
   "metadata": {},
   "outputs": [
    {
     "data": {
      "text/html": [
       "<div>\n",
       "<style scoped>\n",
       "    .dataframe tbody tr th:only-of-type {\n",
       "        vertical-align: middle;\n",
       "    }\n",
       "\n",
       "    .dataframe tbody tr th {\n",
       "        vertical-align: top;\n",
       "    }\n",
       "\n",
       "    .dataframe thead th {\n",
       "        text-align: right;\n",
       "    }\n",
       "</style>\n",
       "<table border=\"1\" class=\"dataframe\">\n",
       "  <thead>\n",
       "    <tr style=\"text-align: right;\">\n",
       "      <th></th>\n",
       "      <th>Company Names</th>\n",
       "      <th>Cars Names</th>\n",
       "      <th>Engines</th>\n",
       "      <th>CC/Battery Capacity</th>\n",
       "      <th>HorsePower</th>\n",
       "      <th>Total Speed</th>\n",
       "      <th>Cars Prices</th>\n",
       "      <th>Fuel Types</th>\n",
       "      <th>Seats</th>\n",
       "      <th>Torque</th>\n",
       "      <th>Speed Unit</th>\n",
       "    </tr>\n",
       "  </thead>\n",
       "  <tbody>\n",
       "    <tr>\n",
       "      <th>0</th>\n",
       "      <td>FERRARI</td>\n",
       "      <td>882</td>\n",
       "      <td>V8</td>\n",
       "      <td>3990</td>\n",
       "      <td>963.0</td>\n",
       "      <td>340</td>\n",
       "      <td>1100000.0</td>\n",
       "      <td>plug in hyrbrid</td>\n",
       "      <td>2</td>\n",
       "      <td>800.0</td>\n",
       "      <td>km/h</td>\n",
       "    </tr>\n",
       "    <tr>\n",
       "      <th>1</th>\n",
       "      <td>ROLLS ROYCE</td>\n",
       "      <td>735</td>\n",
       "      <td>V12</td>\n",
       "      <td>6749</td>\n",
       "      <td>563.0</td>\n",
       "      <td>250</td>\n",
       "      <td>460000.0</td>\n",
       "      <td>Petrol</td>\n",
       "      <td>5</td>\n",
       "      <td>900.0</td>\n",
       "      <td>km/h</td>\n",
       "    </tr>\n",
       "    <tr>\n",
       "      <th>2</th>\n",
       "      <td>Ford</td>\n",
       "      <td>606</td>\n",
       "      <td>1.2L Petrol</td>\n",
       "      <td>1200</td>\n",
       "      <td>77.5</td>\n",
       "      <td>165</td>\n",
       "      <td>13500.0</td>\n",
       "      <td>Petrol</td>\n",
       "      <td>5</td>\n",
       "      <td>120.0</td>\n",
       "      <td>km/h</td>\n",
       "    </tr>\n",
       "    <tr>\n",
       "      <th>3</th>\n",
       "      <td>MERCEDES</td>\n",
       "      <td>0</td>\n",
       "      <td>V8</td>\n",
       "      <td>3982</td>\n",
       "      <td>630.0</td>\n",
       "      <td>250</td>\n",
       "      <td>161000.0</td>\n",
       "      <td>Petrol</td>\n",
       "      <td>4</td>\n",
       "      <td>900.0</td>\n",
       "      <td>km/h</td>\n",
       "    </tr>\n",
       "    <tr>\n",
       "      <th>4</th>\n",
       "      <td>AUDI</td>\n",
       "      <td>139</td>\n",
       "      <td>V10</td>\n",
       "      <td>5204</td>\n",
       "      <td>602.0</td>\n",
       "      <td>320</td>\n",
       "      <td>253290.0</td>\n",
       "      <td>Petrol</td>\n",
       "      <td>2</td>\n",
       "      <td>560.0</td>\n",
       "      <td>km/h</td>\n",
       "    </tr>\n",
       "  </tbody>\n",
       "</table>\n",
       "</div>"
      ],
      "text/plain": [
       "  Company Names  Cars Names      Engines CC/Battery Capacity  HorsePower  \\\n",
       "0       FERRARI         882           V8               3990        963.0   \n",
       "1   ROLLS ROYCE         735          V12               6749        563.0   \n",
       "2          Ford         606  1.2L Petrol               1200         77.5   \n",
       "3      MERCEDES           0           V8               3982        630.0   \n",
       "4          AUDI         139          V10               5204        602.0   \n",
       "\n",
       "  Total Speed  Cars Prices       Fuel Types Seats  Torque Speed Unit  \n",
       "0        340     1100000.0  plug in hyrbrid     2   800.0       km/h  \n",
       "1        250      460000.0           Petrol     5   900.0       km/h  \n",
       "2        165       13500.0           Petrol     5   120.0       km/h  \n",
       "3        250      161000.0           Petrol     4   900.0       km/h  \n",
       "4        320      253290.0           Petrol     2   560.0       km/h  "
      ]
     },
     "execution_count": 106,
     "metadata": {},
     "output_type": "execute_result"
    }
   ],
   "source": [
    "df.head()"
   ]
  },
  {
   "cell_type": "code",
   "execution_count": 109,
   "id": "27e1b3e3",
   "metadata": {},
   "outputs": [],
   "source": [
    "from sklearn.preprocessing import LabelEncoder,StandardScaler\n",
    "df['Fuel Types']=LabelEncoder().fit_transform(df['Fuel Types'])"
   ]
  },
  {
   "cell_type": "code",
   "execution_count": 110,
   "id": "8c1ff88a",
   "metadata": {},
   "outputs": [
    {
     "data": {
      "text/html": [
       "<div>\n",
       "<style scoped>\n",
       "    .dataframe tbody tr th:only-of-type {\n",
       "        vertical-align: middle;\n",
       "    }\n",
       "\n",
       "    .dataframe tbody tr th {\n",
       "        vertical-align: top;\n",
       "    }\n",
       "\n",
       "    .dataframe thead th {\n",
       "        text-align: right;\n",
       "    }\n",
       "</style>\n",
       "<table border=\"1\" class=\"dataframe\">\n",
       "  <thead>\n",
       "    <tr style=\"text-align: right;\">\n",
       "      <th></th>\n",
       "      <th>Company Names</th>\n",
       "      <th>Cars Names</th>\n",
       "      <th>Engines</th>\n",
       "      <th>CC/Battery Capacity</th>\n",
       "      <th>HorsePower</th>\n",
       "      <th>Total Speed</th>\n",
       "      <th>Cars Prices</th>\n",
       "      <th>Fuel Types</th>\n",
       "      <th>Seats</th>\n",
       "      <th>Torque</th>\n",
       "      <th>Speed Unit</th>\n",
       "    </tr>\n",
       "  </thead>\n",
       "  <tbody>\n",
       "    <tr>\n",
       "      <th>0</th>\n",
       "      <td>FERRARI</td>\n",
       "      <td>882</td>\n",
       "      <td>V8</td>\n",
       "      <td>3990</td>\n",
       "      <td>963.0</td>\n",
       "      <td>340</td>\n",
       "      <td>1100000.0</td>\n",
       "      <td>20</td>\n",
       "      <td>2</td>\n",
       "      <td>800.0</td>\n",
       "      <td>km/h</td>\n",
       "    </tr>\n",
       "    <tr>\n",
       "      <th>1</th>\n",
       "      <td>ROLLS ROYCE</td>\n",
       "      <td>735</td>\n",
       "      <td>V12</td>\n",
       "      <td>6749</td>\n",
       "      <td>563.0</td>\n",
       "      <td>250</td>\n",
       "      <td>460000.0</td>\n",
       "      <td>12</td>\n",
       "      <td>5</td>\n",
       "      <td>900.0</td>\n",
       "      <td>km/h</td>\n",
       "    </tr>\n",
       "    <tr>\n",
       "      <th>2</th>\n",
       "      <td>Ford</td>\n",
       "      <td>606</td>\n",
       "      <td>1.2L Petrol</td>\n",
       "      <td>1200</td>\n",
       "      <td>77.5</td>\n",
       "      <td>165</td>\n",
       "      <td>13500.0</td>\n",
       "      <td>12</td>\n",
       "      <td>5</td>\n",
       "      <td>120.0</td>\n",
       "      <td>km/h</td>\n",
       "    </tr>\n",
       "    <tr>\n",
       "      <th>3</th>\n",
       "      <td>MERCEDES</td>\n",
       "      <td>0</td>\n",
       "      <td>V8</td>\n",
       "      <td>3982</td>\n",
       "      <td>630.0</td>\n",
       "      <td>250</td>\n",
       "      <td>161000.0</td>\n",
       "      <td>12</td>\n",
       "      <td>4</td>\n",
       "      <td>900.0</td>\n",
       "      <td>km/h</td>\n",
       "    </tr>\n",
       "    <tr>\n",
       "      <th>4</th>\n",
       "      <td>AUDI</td>\n",
       "      <td>139</td>\n",
       "      <td>V10</td>\n",
       "      <td>5204</td>\n",
       "      <td>602.0</td>\n",
       "      <td>320</td>\n",
       "      <td>253290.0</td>\n",
       "      <td>12</td>\n",
       "      <td>2</td>\n",
       "      <td>560.0</td>\n",
       "      <td>km/h</td>\n",
       "    </tr>\n",
       "  </tbody>\n",
       "</table>\n",
       "</div>"
      ],
      "text/plain": [
       "  Company Names  Cars Names      Engines CC/Battery Capacity  HorsePower  \\\n",
       "0       FERRARI         882           V8               3990        963.0   \n",
       "1   ROLLS ROYCE         735          V12               6749        563.0   \n",
       "2          Ford         606  1.2L Petrol               1200         77.5   \n",
       "3      MERCEDES           0           V8               3982        630.0   \n",
       "4          AUDI         139          V10               5204        602.0   \n",
       "\n",
       "  Total Speed  Cars Prices  Fuel Types Seats  Torque Speed Unit  \n",
       "0        340     1100000.0          20     2   800.0       km/h  \n",
       "1        250      460000.0          12     5   900.0       km/h  \n",
       "2        165       13500.0          12     5   120.0       km/h  \n",
       "3        250      161000.0          12     4   900.0       km/h  \n",
       "4        320      253290.0          12     2   560.0       km/h  "
      ]
     },
     "execution_count": 110,
     "metadata": {},
     "output_type": "execute_result"
    }
   ],
   "source": [
    "df.head()"
   ]
  },
  {
   "cell_type": "code",
   "execution_count": 111,
   "id": "b8799d6e",
   "metadata": {},
   "outputs": [],
   "source": [
    "from sklearn.preprocessing import LabelEncoder,StandardScaler\n",
    "\n",
    "df['Engines']=LabelEncoder().fit_transform(df['Engines'])"
   ]
  },
  {
   "cell_type": "code",
   "execution_count": 112,
   "id": "4e6b8709",
   "metadata": {},
   "outputs": [
    {
     "data": {
      "text/html": [
       "<div>\n",
       "<style scoped>\n",
       "    .dataframe tbody tr th:only-of-type {\n",
       "        vertical-align: middle;\n",
       "    }\n",
       "\n",
       "    .dataframe tbody tr th {\n",
       "        vertical-align: top;\n",
       "    }\n",
       "\n",
       "    .dataframe thead th {\n",
       "        text-align: right;\n",
       "    }\n",
       "</style>\n",
       "<table border=\"1\" class=\"dataframe\">\n",
       "  <thead>\n",
       "    <tr style=\"text-align: right;\">\n",
       "      <th></th>\n",
       "      <th>Company Names</th>\n",
       "      <th>Cars Names</th>\n",
       "      <th>Engines</th>\n",
       "      <th>CC/Battery Capacity</th>\n",
       "      <th>HorsePower</th>\n",
       "      <th>Total Speed</th>\n",
       "      <th>Cars Prices</th>\n",
       "      <th>Fuel Types</th>\n",
       "      <th>Seats</th>\n",
       "      <th>Torque</th>\n",
       "      <th>Speed Unit</th>\n",
       "    </tr>\n",
       "  </thead>\n",
       "  <tbody>\n",
       "    <tr>\n",
       "      <th>0</th>\n",
       "      <td>FERRARI</td>\n",
       "      <td>882</td>\n",
       "      <td>347</td>\n",
       "      <td>3990</td>\n",
       "      <td>963.0</td>\n",
       "      <td>340</td>\n",
       "      <td>1100000.0</td>\n",
       "      <td>20</td>\n",
       "      <td>2</td>\n",
       "      <td>800.0</td>\n",
       "      <td>km/h</td>\n",
       "    </tr>\n",
       "    <tr>\n",
       "      <th>1</th>\n",
       "      <td>ROLLS ROYCE</td>\n",
       "      <td>735</td>\n",
       "      <td>339</td>\n",
       "      <td>6749</td>\n",
       "      <td>563.0</td>\n",
       "      <td>250</td>\n",
       "      <td>460000.0</td>\n",
       "      <td>12</td>\n",
       "      <td>5</td>\n",
       "      <td>900.0</td>\n",
       "      <td>km/h</td>\n",
       "    </tr>\n",
       "    <tr>\n",
       "      <th>2</th>\n",
       "      <td>Ford</td>\n",
       "      <td>606</td>\n",
       "      <td>26</td>\n",
       "      <td>1200</td>\n",
       "      <td>77.5</td>\n",
       "      <td>165</td>\n",
       "      <td>13500.0</td>\n",
       "      <td>12</td>\n",
       "      <td>5</td>\n",
       "      <td>120.0</td>\n",
       "      <td>km/h</td>\n",
       "    </tr>\n",
       "    <tr>\n",
       "      <th>3</th>\n",
       "      <td>MERCEDES</td>\n",
       "      <td>0</td>\n",
       "      <td>347</td>\n",
       "      <td>3982</td>\n",
       "      <td>630.0</td>\n",
       "      <td>250</td>\n",
       "      <td>161000.0</td>\n",
       "      <td>12</td>\n",
       "      <td>4</td>\n",
       "      <td>900.0</td>\n",
       "      <td>km/h</td>\n",
       "    </tr>\n",
       "    <tr>\n",
       "      <th>4</th>\n",
       "      <td>AUDI</td>\n",
       "      <td>139</td>\n",
       "      <td>338</td>\n",
       "      <td>5204</td>\n",
       "      <td>602.0</td>\n",
       "      <td>320</td>\n",
       "      <td>253290.0</td>\n",
       "      <td>12</td>\n",
       "      <td>2</td>\n",
       "      <td>560.0</td>\n",
       "      <td>km/h</td>\n",
       "    </tr>\n",
       "  </tbody>\n",
       "</table>\n",
       "</div>"
      ],
      "text/plain": [
       "  Company Names  Cars Names  Engines CC/Battery Capacity  HorsePower  \\\n",
       "0       FERRARI         882      347               3990        963.0   \n",
       "1   ROLLS ROYCE         735      339               6749        563.0   \n",
       "2          Ford         606       26               1200         77.5   \n",
       "3      MERCEDES           0      347               3982        630.0   \n",
       "4          AUDI         139      338               5204        602.0   \n",
       "\n",
       "  Total Speed  Cars Prices  Fuel Types Seats  Torque Speed Unit  \n",
       "0        340     1100000.0          20     2   800.0       km/h  \n",
       "1        250      460000.0          12     5   900.0       km/h  \n",
       "2        165       13500.0          12     5   120.0       km/h  \n",
       "3        250      161000.0          12     4   900.0       km/h  \n",
       "4        320      253290.0          12     2   560.0       km/h  "
      ]
     },
     "execution_count": 112,
     "metadata": {},
     "output_type": "execute_result"
    }
   ],
   "source": [
    "df.head()"
   ]
  },
  {
   "cell_type": "code",
   "execution_count": 113,
   "id": "b897cb23",
   "metadata": {},
   "outputs": [
    {
     "name": "stdout",
     "output_type": "stream",
     "text": [
      "<class 'pandas.core.frame.DataFrame'>\n",
      "Index: 1210 entries, 0 to 1217\n",
      "Data columns (total 11 columns):\n",
      " #   Column               Non-Null Count  Dtype  \n",
      "---  ------               --------------  -----  \n",
      " 0   Company Names        1210 non-null   object \n",
      " 1   Cars Names           1210 non-null   int64  \n",
      " 2   Engines              1210 non-null   int64  \n",
      " 3   CC/Battery Capacity  1210 non-null   object \n",
      " 4   HorsePower           1027 non-null   float64\n",
      " 5   Total Speed          1210 non-null   object \n",
      " 6   Cars Prices          1210 non-null   float64\n",
      " 7   Fuel Types           1210 non-null   int64  \n",
      " 8   Seats                1210 non-null   object \n",
      " 9   Torque               1206 non-null   float64\n",
      " 10  Speed Unit           1210 non-null   object \n",
      "dtypes: float64(3), int64(3), object(5)\n",
      "memory usage: 145.7+ KB\n"
     ]
    }
   ],
   "source": [
    "df.info()"
   ]
  },
  {
   "cell_type": "code",
   "execution_count": 114,
   "id": "3f840985",
   "metadata": {},
   "outputs": [
    {
     "data": {
      "text/plain": [
       "0       340 \n",
       "1       250 \n",
       "2       165 \n",
       "3       250 \n",
       "4       320 \n",
       "        ... \n",
       "1213    180 \n",
       "1214    180 \n",
       "1215    190 \n",
       "1216    180 \n",
       "1217    200 \n",
       "Name: Total Speed, Length: 1210, dtype: object"
      ]
     },
     "execution_count": 114,
     "metadata": {},
     "output_type": "execute_result"
    }
   ],
   "source": [
    "df['Total Speed']"
   ]
  },
  {
   "cell_type": "code",
   "execution_count": 115,
   "id": "46749278",
   "metadata": {},
   "outputs": [],
   "source": [
    "df['Total Speed']=df['Total Speed'].astype('int64')"
   ]
  },
  {
   "cell_type": "code",
   "execution_count": 116,
   "id": "71a75376",
   "metadata": {},
   "outputs": [
    {
     "name": "stdout",
     "output_type": "stream",
     "text": [
      "<class 'pandas.core.frame.DataFrame'>\n",
      "Index: 1210 entries, 0 to 1217\n",
      "Data columns (total 11 columns):\n",
      " #   Column               Non-Null Count  Dtype  \n",
      "---  ------               --------------  -----  \n",
      " 0   Company Names        1210 non-null   object \n",
      " 1   Cars Names           1210 non-null   int64  \n",
      " 2   Engines              1210 non-null   int64  \n",
      " 3   CC/Battery Capacity  1210 non-null   object \n",
      " 4   HorsePower           1027 non-null   float64\n",
      " 5   Total Speed          1210 non-null   int64  \n",
      " 6   Cars Prices          1210 non-null   float64\n",
      " 7   Fuel Types           1210 non-null   int64  \n",
      " 8   Seats                1210 non-null   object \n",
      " 9   Torque               1206 non-null   float64\n",
      " 10  Speed Unit           1210 non-null   object \n",
      "dtypes: float64(3), int64(4), object(4)\n",
      "memory usage: 145.7+ KB\n"
     ]
    }
   ],
   "source": [
    "df.info()"
   ]
  },
  {
   "cell_type": "code",
   "execution_count": 119,
   "id": "79eb4ada",
   "metadata": {},
   "outputs": [],
   "source": [
    "df = df.drop(columns=[\"Speed Unit\"])"
   ]
  },
  {
   "cell_type": "code",
   "execution_count": 120,
   "id": "beaa6436",
   "metadata": {},
   "outputs": [
    {
     "data": {
      "text/html": [
       "<div>\n",
       "<style scoped>\n",
       "    .dataframe tbody tr th:only-of-type {\n",
       "        vertical-align: middle;\n",
       "    }\n",
       "\n",
       "    .dataframe tbody tr th {\n",
       "        vertical-align: top;\n",
       "    }\n",
       "\n",
       "    .dataframe thead th {\n",
       "        text-align: right;\n",
       "    }\n",
       "</style>\n",
       "<table border=\"1\" class=\"dataframe\">\n",
       "  <thead>\n",
       "    <tr style=\"text-align: right;\">\n",
       "      <th></th>\n",
       "      <th>Company Names</th>\n",
       "      <th>Cars Names</th>\n",
       "      <th>Engines</th>\n",
       "      <th>CC/Battery Capacity</th>\n",
       "      <th>HorsePower</th>\n",
       "      <th>Total Speed</th>\n",
       "      <th>Cars Prices</th>\n",
       "      <th>Fuel Types</th>\n",
       "      <th>Seats</th>\n",
       "      <th>Torque</th>\n",
       "    </tr>\n",
       "  </thead>\n",
       "  <tbody>\n",
       "    <tr>\n",
       "      <th>0</th>\n",
       "      <td>FERRARI</td>\n",
       "      <td>882</td>\n",
       "      <td>347</td>\n",
       "      <td>3990</td>\n",
       "      <td>963.0</td>\n",
       "      <td>340</td>\n",
       "      <td>1100000.0</td>\n",
       "      <td>20</td>\n",
       "      <td>2</td>\n",
       "      <td>800.0</td>\n",
       "    </tr>\n",
       "    <tr>\n",
       "      <th>1</th>\n",
       "      <td>ROLLS ROYCE</td>\n",
       "      <td>735</td>\n",
       "      <td>339</td>\n",
       "      <td>6749</td>\n",
       "      <td>563.0</td>\n",
       "      <td>250</td>\n",
       "      <td>460000.0</td>\n",
       "      <td>12</td>\n",
       "      <td>5</td>\n",
       "      <td>900.0</td>\n",
       "    </tr>\n",
       "    <tr>\n",
       "      <th>2</th>\n",
       "      <td>Ford</td>\n",
       "      <td>606</td>\n",
       "      <td>26</td>\n",
       "      <td>1200</td>\n",
       "      <td>77.5</td>\n",
       "      <td>165</td>\n",
       "      <td>13500.0</td>\n",
       "      <td>12</td>\n",
       "      <td>5</td>\n",
       "      <td>120.0</td>\n",
       "    </tr>\n",
       "    <tr>\n",
       "      <th>3</th>\n",
       "      <td>MERCEDES</td>\n",
       "      <td>0</td>\n",
       "      <td>347</td>\n",
       "      <td>3982</td>\n",
       "      <td>630.0</td>\n",
       "      <td>250</td>\n",
       "      <td>161000.0</td>\n",
       "      <td>12</td>\n",
       "      <td>4</td>\n",
       "      <td>900.0</td>\n",
       "    </tr>\n",
       "    <tr>\n",
       "      <th>4</th>\n",
       "      <td>AUDI</td>\n",
       "      <td>139</td>\n",
       "      <td>338</td>\n",
       "      <td>5204</td>\n",
       "      <td>602.0</td>\n",
       "      <td>320</td>\n",
       "      <td>253290.0</td>\n",
       "      <td>12</td>\n",
       "      <td>2</td>\n",
       "      <td>560.0</td>\n",
       "    </tr>\n",
       "  </tbody>\n",
       "</table>\n",
       "</div>"
      ],
      "text/plain": [
       "  Company Names  Cars Names  Engines CC/Battery Capacity  HorsePower  \\\n",
       "0       FERRARI         882      347               3990        963.0   \n",
       "1   ROLLS ROYCE         735      339               6749        563.0   \n",
       "2          Ford         606       26               1200         77.5   \n",
       "3      MERCEDES           0      347               3982        630.0   \n",
       "4          AUDI         139      338               5204        602.0   \n",
       "\n",
       "   Total Speed  Cars Prices  Fuel Types Seats  Torque  \n",
       "0          340    1100000.0          20     2   800.0  \n",
       "1          250     460000.0          12     5   900.0  \n",
       "2          165      13500.0          12     5   120.0  \n",
       "3          250     161000.0          12     4   900.0  \n",
       "4          320     253290.0          12     2   560.0  "
      ]
     },
     "execution_count": 120,
     "metadata": {},
     "output_type": "execute_result"
    }
   ],
   "source": [
    "df.head()"
   ]
  },
  {
   "cell_type": "code",
   "execution_count": 121,
   "id": "66dcd99c",
   "metadata": {},
   "outputs": [],
   "source": [
    "df['Company Names']=LabelEncoder().fit_transform(df['Company Names'])"
   ]
  },
  {
   "cell_type": "code",
   "execution_count": 122,
   "id": "fcec95e2",
   "metadata": {},
   "outputs": [],
   "source": [
    "df['CC/Battery Capacity']=LabelEncoder().fit_transform(df['CC/Battery Capacity'])"
   ]
  },
  {
   "cell_type": "code",
   "execution_count": 123,
   "id": "bfaa497b",
   "metadata": {},
   "outputs": [
    {
     "data": {
      "text/html": [
       "<div>\n",
       "<style scoped>\n",
       "    .dataframe tbody tr th:only-of-type {\n",
       "        vertical-align: middle;\n",
       "    }\n",
       "\n",
       "    .dataframe tbody tr th {\n",
       "        vertical-align: top;\n",
       "    }\n",
       "\n",
       "    .dataframe thead th {\n",
       "        text-align: right;\n",
       "    }\n",
       "</style>\n",
       "<table border=\"1\" class=\"dataframe\">\n",
       "  <thead>\n",
       "    <tr style=\"text-align: right;\">\n",
       "      <th></th>\n",
       "      <th>Company Names</th>\n",
       "      <th>Cars Names</th>\n",
       "      <th>Engines</th>\n",
       "      <th>CC/Battery Capacity</th>\n",
       "      <th>HorsePower</th>\n",
       "      <th>Total Speed</th>\n",
       "      <th>Cars Prices</th>\n",
       "      <th>Fuel Types</th>\n",
       "      <th>Seats</th>\n",
       "      <th>Torque</th>\n",
       "    </tr>\n",
       "  </thead>\n",
       "  <tbody>\n",
       "    <tr>\n",
       "      <th>0</th>\n",
       "      <td>8</td>\n",
       "      <td>882</td>\n",
       "      <td>347</td>\n",
       "      <td>195</td>\n",
       "      <td>963.0</td>\n",
       "      <td>340</td>\n",
       "      <td>1100000.0</td>\n",
       "      <td>20</td>\n",
       "      <td>2</td>\n",
       "      <td>800.0</td>\n",
       "    </tr>\n",
       "    <tr>\n",
       "      <th>1</th>\n",
       "      <td>28</td>\n",
       "      <td>735</td>\n",
       "      <td>339</td>\n",
       "      <td>246</td>\n",
       "      <td>563.0</td>\n",
       "      <td>250</td>\n",
       "      <td>460000.0</td>\n",
       "      <td>12</td>\n",
       "      <td>5</td>\n",
       "      <td>900.0</td>\n",
       "    </tr>\n",
       "    <tr>\n",
       "      <th>2</th>\n",
       "      <td>9</td>\n",
       "      <td>606</td>\n",
       "      <td>26</td>\n",
       "      <td>18</td>\n",
       "      <td>77.5</td>\n",
       "      <td>165</td>\n",
       "      <td>13500.0</td>\n",
       "      <td>12</td>\n",
       "      <td>5</td>\n",
       "      <td>120.0</td>\n",
       "    </tr>\n",
       "    <tr>\n",
       "      <th>3</th>\n",
       "      <td>21</td>\n",
       "      <td>0</td>\n",
       "      <td>347</td>\n",
       "      <td>194</td>\n",
       "      <td>630.0</td>\n",
       "      <td>250</td>\n",
       "      <td>161000.0</td>\n",
       "      <td>12</td>\n",
       "      <td>4</td>\n",
       "      <td>900.0</td>\n",
       "    </tr>\n",
       "    <tr>\n",
       "      <th>4</th>\n",
       "      <td>1</td>\n",
       "      <td>139</td>\n",
       "      <td>338</td>\n",
       "      <td>216</td>\n",
       "      <td>602.0</td>\n",
       "      <td>320</td>\n",
       "      <td>253290.0</td>\n",
       "      <td>12</td>\n",
       "      <td>2</td>\n",
       "      <td>560.0</td>\n",
       "    </tr>\n",
       "  </tbody>\n",
       "</table>\n",
       "</div>"
      ],
      "text/plain": [
       "   Company Names  Cars Names  Engines  CC/Battery Capacity  HorsePower  \\\n",
       "0              8         882      347                  195       963.0   \n",
       "1             28         735      339                  246       563.0   \n",
       "2              9         606       26                   18        77.5   \n",
       "3             21           0      347                  194       630.0   \n",
       "4              1         139      338                  216       602.0   \n",
       "\n",
       "   Total Speed  Cars Prices  Fuel Types Seats  Torque  \n",
       "0          340    1100000.0          20     2   800.0  \n",
       "1          250     460000.0          12     5   900.0  \n",
       "2          165      13500.0          12     5   120.0  \n",
       "3          250     161000.0          12     4   900.0  \n",
       "4          320     253290.0          12     2   560.0  "
      ]
     },
     "execution_count": 123,
     "metadata": {},
     "output_type": "execute_result"
    }
   ],
   "source": [
    "df.head()"
   ]
  },
  {
   "cell_type": "code",
   "execution_count": 124,
   "id": "1516afb3",
   "metadata": {},
   "outputs": [
    {
     "name": "stdout",
     "output_type": "stream",
     "text": [
      "<class 'pandas.core.frame.DataFrame'>\n",
      "Index: 1210 entries, 0 to 1217\n",
      "Data columns (total 10 columns):\n",
      " #   Column               Non-Null Count  Dtype  \n",
      "---  ------               --------------  -----  \n",
      " 0   Company Names        1210 non-null   int64  \n",
      " 1   Cars Names           1210 non-null   int64  \n",
      " 2   Engines              1210 non-null   int64  \n",
      " 3   CC/Battery Capacity  1210 non-null   int64  \n",
      " 4   HorsePower           1027 non-null   float64\n",
      " 5   Total Speed          1210 non-null   int64  \n",
      " 6   Cars Prices          1210 non-null   float64\n",
      " 7   Fuel Types           1210 non-null   int64  \n",
      " 8   Seats                1210 non-null   object \n",
      " 9   Torque               1206 non-null   float64\n",
      "dtypes: float64(3), int64(6), object(1)\n",
      "memory usage: 136.3+ KB\n"
     ]
    }
   ],
   "source": [
    "df.info()"
   ]
  },
  {
   "cell_type": "code",
   "execution_count": 125,
   "id": "098a1640",
   "metadata": {},
   "outputs": [],
   "source": [
    "df['Seats']=LabelEncoder().fit_transform(df['Seats'])"
   ]
  },
  {
   "cell_type": "code",
   "execution_count": 126,
   "id": "25372670",
   "metadata": {},
   "outputs": [
    {
     "name": "stdout",
     "output_type": "stream",
     "text": [
      "<class 'pandas.core.frame.DataFrame'>\n",
      "Index: 1210 entries, 0 to 1217\n",
      "Data columns (total 10 columns):\n",
      " #   Column               Non-Null Count  Dtype  \n",
      "---  ------               --------------  -----  \n",
      " 0   Company Names        1210 non-null   int64  \n",
      " 1   Cars Names           1210 non-null   int64  \n",
      " 2   Engines              1210 non-null   int64  \n",
      " 3   CC/Battery Capacity  1210 non-null   int64  \n",
      " 4   HorsePower           1027 non-null   float64\n",
      " 5   Total Speed          1210 non-null   int64  \n",
      " 6   Cars Prices          1210 non-null   float64\n",
      " 7   Fuel Types           1210 non-null   int64  \n",
      " 8   Seats                1210 non-null   int64  \n",
      " 9   Torque               1206 non-null   float64\n",
      "dtypes: float64(3), int64(7)\n",
      "memory usage: 136.3 KB\n"
     ]
    }
   ],
   "source": [
    "df.info()"
   ]
  },
  {
   "cell_type": "markdown",
   "id": "f291df4b",
   "metadata": {},
   "source": [
    "Checking if OUTLIERS exist"
   ]
  },
  {
   "cell_type": "code",
   "execution_count": 129,
   "id": "9793e398",
   "metadata": {},
   "outputs": [
    {
     "data": {
      "text/plain": [
       "<function matplotlib.pyplot.show(close=None, block=None)>"
      ]
     },
     "execution_count": 129,
     "metadata": {},
     "output_type": "execute_result"
    },
    {
     "data": {
      "image/png": "[encoded data removed]",
      "text/plain": [
       "<Figure size 400x300 with 1 Axes>"
      ]
     },
     "metadata": {},
     "output_type": "display_data"
    }
   ],
   "source": [
    "plt.figure(figsize=(4,3))\n",
    "sns.boxplot(x='Cars Prices',data=df)\n",
    "plt.show"
   ]
  },
  {
   "cell_type": "markdown",
   "id": "eabb0f3e",
   "metadata": {},
   "source": [
    "WE CAN REMOVE OUTLIERS BY USING...iqr(Inter Quartile Range)"
   ]
  },
  {
   "cell_type": "code",
   "execution_count": 130,
   "id": "0cc16594",
   "metadata": {},
   "outputs": [
    {
     "data": {
      "text/plain": [
       "<function matplotlib.pyplot.show(close=None, block=None)>"
      ]
     },
     "execution_count": 130,
     "metadata": {},
     "output_type": "execute_result"
    },
    {
     "data": {
      "image/png": "[encoded data removed]",
      "text/plain": [
       "<Figure size 400x300 with 1 Axes>"
      ]
     },
     "metadata": {},
     "output_type": "display_data"
    }
   ],
   "source": [
    "plt.figure(figsize=(4,3))\n",
    "sns.boxplot(x='Engines',data=df)\n",
    "plt.show"
   ]
  },
  {
   "cell_type": "code",
   "execution_count": 131,
   "id": "2d8b7675",
   "metadata": {},
   "outputs": [
    {
     "data": {
      "text/plain": [
       "<function matplotlib.pyplot.show(close=None, block=None)>"
      ]
     },
     "execution_count": 131,
     "metadata": {},
     "output_type": "execute_result"
    },
    {
     "data": {
      "image/png": "[encoded data removed]",
      "text/plain": [
       "<Figure size 400x300 with 1 Axes>"
      ]
     },
     "metadata": {},
     "output_type": "display_data"
    }
   ],
   "source": [
    "plt.figure(figsize=(4,3))\n",
    "sns.boxplot(x='Torque',data=df)\n",
    "plt.show"
   ]
  },
  {
   "cell_type": "code",
   "execution_count": 134,
   "id": "89cb626b",
   "metadata": {},
   "outputs": [],
   "source": [
    "q1=np.quantile(df['Torque'],0.25)\n",
    "q3=np.quantile(df['Torque'],0.75)"
   ]
  },
  {
   "cell_type": "code",
   "execution_count": 135,
   "id": "1df380ee",
   "metadata": {},
   "outputs": [],
   "source": [
    "iqr=q3-q1"
   ]
  },
  {
   "cell_type": "code",
   "execution_count": 136,
   "id": "040f426a",
   "metadata": {},
   "outputs": [],
   "source": [
    "min_r=q1-(1.5*iqr)\n",
    "max_r=q3+(1.5*iqr)"
   ]
  },
  {
   "cell_type": "markdown",
   "id": "887a594c",
   "metadata": {},
   "source": [
    "Above is the way to remove outliers....but not removing yet"
   ]
  },
  {
   "cell_type": "markdown",
   "id": "c8766042",
   "metadata": {},
   "source": [
    "Now for data scaling...we need to first divide data into input and output and that depends on the ML algo we will be using"
   ]
  },
  {
   "cell_type": "markdown",
   "id": "03259755",
   "metadata": {},
   "source": [
    "3 categories...supervises, undupervised and reinforcement learning\n",
    "do separate in input/output for supervised and conduct scaling on input only\n",
    "no separtion for unsupervised"
   ]
  },
  {
   "cell_type": "markdown",
   "id": "a51fe711",
   "metadata": {},
   "source": [
    "Scaling means to bring all the data within the same range otherwise the algorithm will give more importance to the feature with higher values"
   ]
  },
  {
   "cell_type": "markdown",
   "id": "76922511",
   "metadata": {},
   "source": [
    "SCALING"
   ]
  },
  {
   "cell_type": "code",
   "execution_count": 138,
   "id": "315e6ebb",
   "metadata": {},
   "outputs": [
    {
     "data": {
      "text/plain": [
       "array([[-1.2118888 ,  0.83203944,  1.25984121, ...,  2.39264733,\n",
       "        -2.58654467,  0.27720431],\n",
       "       [ 0.81490519,  0.40422827,  1.17997858, ...,  0.47647076,\n",
       "         0.27396832,  0.37212166],\n",
       "       [-1.1105491 ,  0.02880215, -1.94464675, ...,  0.47647076,\n",
       "         0.27396832, -0.36823367],\n",
       "       ...,\n",
       "       [ 1.32160368, -0.74824261, -1.00626087, ..., -1.4397058 ,\n",
       "         0.27396832, -0.29229979],\n",
       "       [ 1.32160368, -1.03636034, -1.14602047, ..., -1.20018373,\n",
       "         0.27396832, -0.29467272],\n",
       "       [ 1.32160368,  0.70107684, -0.48715378, ..., -0.48161752,\n",
       "         0.27396832, -0.18741612]])"
      ]
     },
     "execution_count": 138,
     "metadata": {},
     "output_type": "execute_result"
    }
   ],
   "source": [
    "StandardScaler().fit_transform(df)"
   ]
  },
  {
   "cell_type": "code",
   "execution_count": 140,
   "id": "a6dedcea",
   "metadata": {},
   "outputs": [],
   "source": [
    "new_data=pd.DataFrame(StandardScaler().fit_transform(df),columns=df.columns)"
   ]
  },
  {
   "cell_type": "code",
   "execution_count": 141,
   "id": "54c82277",
   "metadata": {},
   "outputs": [
    {
     "data": {
      "text/html": [
       "<div>\n",
       "<style scoped>\n",
       "    .dataframe tbody tr th:only-of-type {\n",
       "        vertical-align: middle;\n",
       "    }\n",
       "\n",
       "    .dataframe tbody tr th {\n",
       "        vertical-align: top;\n",
       "    }\n",
       "\n",
       "    .dataframe thead th {\n",
       "        text-align: right;\n",
       "    }\n",
       "</style>\n",
       "<table border=\"1\" class=\"dataframe\">\n",
       "  <thead>\n",
       "    <tr style=\"text-align: right;\">\n",
       "      <th></th>\n",
       "      <th>Company Names</th>\n",
       "      <th>Cars Names</th>\n",
       "      <th>Engines</th>\n",
       "      <th>CC/Battery Capacity</th>\n",
       "      <th>HorsePower</th>\n",
       "      <th>Total Speed</th>\n",
       "      <th>Cars Prices</th>\n",
       "      <th>Fuel Types</th>\n",
       "      <th>Seats</th>\n",
       "      <th>Torque</th>\n",
       "    </tr>\n",
       "  </thead>\n",
       "  <tbody>\n",
       "    <tr>\n",
       "      <th>0</th>\n",
       "      <td>-1.211889</td>\n",
       "      <td>0.832039</td>\n",
       "      <td>1.259841</td>\n",
       "      <td>0.807090</td>\n",
       "      <td>3.057663</td>\n",
       "      <td>2.336936</td>\n",
       "      <td>1.348943</td>\n",
       "      <td>2.392647</td>\n",
       "      <td>-2.586545</td>\n",
       "      <td>0.277204</td>\n",
       "    </tr>\n",
       "    <tr>\n",
       "      <th>1</th>\n",
       "      <td>0.814905</td>\n",
       "      <td>0.404228</td>\n",
       "      <td>1.179979</td>\n",
       "      <td>1.489647</td>\n",
       "      <td>1.190629</td>\n",
       "      <td>0.629083</td>\n",
       "      <td>0.451042</td>\n",
       "      <td>0.476471</td>\n",
       "      <td>0.273968</td>\n",
       "      <td>0.372122</td>\n",
       "    </tr>\n",
       "    <tr>\n",
       "      <th>2</th>\n",
       "      <td>-1.110549</td>\n",
       "      <td>0.028802</td>\n",
       "      <td>-1.944647</td>\n",
       "      <td>-1.561785</td>\n",
       "      <td>-1.075483</td>\n",
       "      <td>-0.983890</td>\n",
       "      <td>-0.175385</td>\n",
       "      <td>0.476471</td>\n",
       "      <td>0.273968</td>\n",
       "      <td>-0.368234</td>\n",
       "    </tr>\n",
       "    <tr>\n",
       "      <th>3</th>\n",
       "      <td>0.105527</td>\n",
       "      <td>-1.734828</td>\n",
       "      <td>1.259841</td>\n",
       "      <td>0.793706</td>\n",
       "      <td>1.503358</td>\n",
       "      <td>0.629083</td>\n",
       "      <td>0.031553</td>\n",
       "      <td>0.476471</td>\n",
       "      <td>-0.043866</td>\n",
       "      <td>0.372122</td>\n",
       "    </tr>\n",
       "    <tr>\n",
       "      <th>4</th>\n",
       "      <td>-1.921267</td>\n",
       "      <td>-1.330299</td>\n",
       "      <td>1.169996</td>\n",
       "      <td>1.088143</td>\n",
       "      <td>1.372665</td>\n",
       "      <td>1.957413</td>\n",
       "      <td>0.161033</td>\n",
       "      <td>0.476471</td>\n",
       "      <td>-2.586545</td>\n",
       "      <td>0.049403</td>\n",
       "    </tr>\n",
       "    <tr>\n",
       "      <th>...</th>\n",
       "      <td>...</td>\n",
       "      <td>...</td>\n",
       "      <td>...</td>\n",
       "      <td>...</td>\n",
       "      <td>...</td>\n",
       "      <td>...</td>\n",
       "      <td>...</td>\n",
       "      <td>...</td>\n",
       "      <td>...</td>\n",
       "      <td>...</td>\n",
       "    </tr>\n",
       "    <tr>\n",
       "      <th>1205</th>\n",
       "      <td>1.321604</td>\n",
       "      <td>-0.724960</td>\n",
       "      <td>-0.477171</td>\n",
       "      <td>-0.169904</td>\n",
       "      <td>-0.317000</td>\n",
       "      <td>-0.699248</td>\n",
       "      <td>-0.130076</td>\n",
       "      <td>-0.960662</td>\n",
       "      <td>0.273968</td>\n",
       "      <td>-0.255282</td>\n",
       "    </tr>\n",
       "    <tr>\n",
       "      <th>1206</th>\n",
       "      <td>1.321604</td>\n",
       "      <td>-1.539839</td>\n",
       "      <td>-0.527085</td>\n",
       "      <td>-0.263588</td>\n",
       "      <td>0.084412</td>\n",
       "      <td>-0.699248</td>\n",
       "      <td>-0.124177</td>\n",
       "      <td>-1.200184</td>\n",
       "      <td>0.909638</td>\n",
       "      <td>0.115845</td>\n",
       "    </tr>\n",
       "    <tr>\n",
       "      <th>1207</th>\n",
       "      <td>1.321604</td>\n",
       "      <td>-0.748243</td>\n",
       "      <td>-1.006261</td>\n",
       "      <td>-0.624942</td>\n",
       "      <td>-0.585386</td>\n",
       "      <td>-0.509486</td>\n",
       "      <td>-0.156203</td>\n",
       "      <td>-1.439706</td>\n",
       "      <td>0.273968</td>\n",
       "      <td>-0.292300</td>\n",
       "    </tr>\n",
       "    <tr>\n",
       "      <th>1208</th>\n",
       "      <td>1.321604</td>\n",
       "      <td>-1.036360</td>\n",
       "      <td>-1.146020</td>\n",
       "      <td>-0.785543</td>\n",
       "      <td>-0.648399</td>\n",
       "      <td>-0.699248</td>\n",
       "      <td>-0.148027</td>\n",
       "      <td>-1.200184</td>\n",
       "      <td>0.273968</td>\n",
       "      <td>-0.294673</td>\n",
       "    </tr>\n",
       "    <tr>\n",
       "      <th>1209</th>\n",
       "      <td>1.321604</td>\n",
       "      <td>0.701077</td>\n",
       "      <td>-0.487154</td>\n",
       "      <td>-0.156520</td>\n",
       "      <td>-0.221315</td>\n",
       "      <td>-0.319725</td>\n",
       "      <td>-0.143818</td>\n",
       "      <td>-0.481618</td>\n",
       "      <td>0.273968</td>\n",
       "      <td>-0.187416</td>\n",
       "    </tr>\n",
       "  </tbody>\n",
       "</table>\n",
       "<p>1210 rows × 10 columns</p>\n",
       "</div>"
      ],
      "text/plain": [
       "      Company Names  Cars Names   Engines  CC/Battery Capacity  HorsePower  \\\n",
       "0         -1.211889    0.832039  1.259841             0.807090    3.057663   \n",
       "1          0.814905    0.404228  1.179979             1.489647    1.190629   \n",
       "2         -1.110549    0.028802 -1.944647            -1.561785   -1.075483   \n",
       "3          0.105527   -1.734828  1.259841             0.793706    1.503358   \n",
       "4         -1.921267   -1.330299  1.169996             1.088143    1.372665   \n",
       "...             ...         ...       ...                  ...         ...   \n",
       "1205       1.321604   -0.724960 -0.477171            -0.169904   -0.317000   \n",
       "1206       1.321604   -1.539839 -0.527085            -0.263588    0.084412   \n",
       "1207       1.321604   -0.748243 -1.006261            -0.624942   -0.585386   \n",
       "1208       1.321604   -1.036360 -1.146020            -0.785543   -0.648399   \n",
       "1209       1.321604    0.701077 -0.487154            -0.156520   -0.221315   \n",
       "\n",
       "      Total Speed  Cars Prices  Fuel Types     Seats    Torque  \n",
       "0        2.336936     1.348943    2.392647 -2.586545  0.277204  \n",
       "1        0.629083     0.451042    0.476471  0.273968  0.372122  \n",
       "2       -0.983890    -0.175385    0.476471  0.273968 -0.368234  \n",
       "3        0.629083     0.031553    0.476471 -0.043866  0.372122  \n",
       "4        1.957413     0.161033    0.476471 -2.586545  0.049403  \n",
       "...           ...          ...         ...       ...       ...  \n",
       "1205    -0.699248    -0.130076   -0.960662  0.273968 -0.255282  \n",
       "1206    -0.699248    -0.124177   -1.200184  0.909638  0.115845  \n",
       "1207    -0.509486    -0.156203   -1.439706  0.273968 -0.292300  \n",
       "1208    -0.699248    -0.148027   -1.200184  0.273968 -0.294673  \n",
       "1209    -0.319725    -0.143818   -0.481618  0.273968 -0.187416  \n",
       "\n",
       "[1210 rows x 10 columns]"
      ]
     },
     "execution_count": 141,
     "metadata": {},
     "output_type": "execute_result"
    }
   ],
   "source": [
    "new_data"
   ]
  }
 ],
 "metadata": {
  "kernelspec": {
   "display_name": "Python 3",
   "language": "python",
   "name": "python3"
  },
  "language_info": {
   "codemirror_mode": {
    "name": "ipython",
    "version": 3
   },
   "file_extension": ".py",
   "mimetype": "text/x-python",
   "name": "python",
   "nbconvert_exporter": "python",
   "pygments_lexer": "ipython3",
   "version": "3.11.9"
  }
 },
 "nbformat": 4,
 "nbformat_minor": 5
}
